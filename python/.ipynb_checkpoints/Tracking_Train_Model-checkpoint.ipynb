{
 "cells": [
  {
   "cell_type": "code",
   "execution_count": 1,
   "metadata": {
    "colab": {
     "base_uri": "https://localhost:8080/",
     "height": 34
    },
    "colab_type": "code",
    "id": "9hNrmqRpzyJo",
    "outputId": "666b6479-6424-4020-9902-0a78be1afc50"
   },
   "outputs": [
    {
     "name": "stdout",
     "output_type": "stream",
     "text": [
      "cuda\n"
     ]
    }
   ],
   "source": [
    "import os\n",
    "import cv2\n",
    "import time\n",
    "import pandas as pd\n",
    "import numpy as np\n",
    "import torch\n",
    "import torch.nn as nn\n",
    "import torch.nn.functional as F\n",
    "import torchvision\n",
    "import matplotlib.pyplot as plt\n",
    "from cnn import SegmentationModel as net\n",
    "from torch.autograd import Variable\n",
    "from livelossplot import PlotLosses\n",
    "from torch.utils.data import Dataset, DataLoader\n",
    "\n",
    "device = 'cuda' if torch.cuda.is_available() else 'cpu'\n",
    "print(device)"
   ]
  },
  {
   "cell_type": "code",
   "execution_count": 2,
   "metadata": {
    "colab": {},
    "colab_type": "code",
    "id": "V6gBi2V8zyJs"
   },
   "outputs": [],
   "source": [
    "def count_parameters(model):\n",
    "    return sum(p.numel() for p in model.parameters() if p.requires_grad)"
   ]
  },
  {
   "cell_type": "code",
   "execution_count": 3,
   "metadata": {
    "colab": {},
    "colab_type": "code",
    "id": "k0OZiilIzyJu"
   },
   "outputs": [],
   "source": [
    "class MyDataset(torch.utils.data.Dataset):\n",
    "    '''\n",
    "    Class to load the dataset\n",
    "    '''\n",
    "    def __init__(self, im_dir, im_list, lbl_list, transform = None):\n",
    "        '''\n",
    "        :param imList: image list (Note that these lists have been processed and pickled using the loadData.py)\n",
    "        :param labelList: label list (Note that these lists have been processed and pickled using the loadData.py)\n",
    "        '''          \n",
    "        self.im_dir = im_dir\n",
    "        self.im_list = im_list\n",
    "        self.lbl_list = lbl_list      \n",
    "        self.transform = transform\n",
    "        \n",
    "\n",
    "    def __len__(self):\n",
    "        return len(self.im_list)\n",
    "\n",
    "    def __transform__(self, x):\n",
    "        x = x.copy()\n",
    "        x = np.moveaxis(x, 2, 0)\n",
    "        x = x.astype('float')\n",
    "        x -= 128\n",
    "        x /= 35\n",
    "        return(x)\n",
    "\n",
    "    def __back_transform__(self, x):\n",
    "        x = x.copy()\n",
    "        x *= 35\n",
    "        x += 128\n",
    "        x[x<0] = 0\n",
    "        x[x>255] = 255\n",
    "        x = x.astype('uint8')\n",
    "        x = np.moveaxis(x, 0, 2)\n",
    "        return(x)\n",
    "      \n",
    "    def __getitem__(self, idx):\n",
    "        '''\n",
    "\n",
    "        :param idx: Index of the image file\n",
    "        :return: returns the image and corresponding label file.\n",
    "        '''\n",
    "        image_name = self.im_list[idx]\n",
    "        label_name = self.lbl_list[idx]\n",
    "        \n",
    "        image = cv2.imread(os.path.join(self.im_dir, image_name), cv2.IMREAD_COLOR)\n",
    "        label = cv2.imread(os.path.join(self.im_dir, label_name), cv2.IMREAD_GRAYSCALE)\n",
    "        \n",
    "        if self.transform:\n",
    "            image, label = self.transform(image, label)\n",
    "            \n",
    "        \n",
    "        image = self.__transform__(image)\n",
    "        image = torch.from_numpy(image)\n",
    "        label = torch.from_numpy(label)\n",
    "\n",
    "        image = Variable(image).to(device, dtype=torch.float)\n",
    "        label = Variable(label).to(device, dtype=torch.long)\n",
    "        \n",
    "        return (image, label)"
   ]
  },
  {
   "cell_type": "code",
   "execution_count": 17,
   "metadata": {
    "colab": {},
    "colab_type": "code",
    "id": "XaI_HiykBCfK"
   },
   "outputs": [],
   "source": [
    "class Scale(object):\n",
    "    def __init__(self, h, w):\n",
    "        self.h = h\n",
    "        self.w = w\n",
    "        \n",
    "    def __call__(self, img, label):\n",
    "        # nearest neighbour interpolation\n",
    "        img = cv2.resize(img, (self.w, self.h), interpolation=cv2.INTER_NEAREST)\n",
    "        label = cv2.resize(label, (self.w, self.h), interpolation=cv2.INTER_NEAREST)\n",
    "\n",
    "        return [img, label]\n",
    "\n",
    "class Crop(object):\n",
    "    def __init__(self, h, w):\n",
    "        self.y = h\n",
    "        self.x = w\n",
    "        \n",
    "    def __call__(self, img, label):\n",
    "        h, w = img.shape[:2]\n",
    "        x1 = np.random.randint(0, w - self.x)\n",
    "        y1 = np.random.randint(0, h - self.y)\n",
    "        img_crop = img[y1:y1+self.y, x1:x1+self.x]\n",
    "        label_crop = label[y1:y1+self.y, x1:x1+self.x]\n",
    "\n",
    "        return img_crop, label_crop\n",
    "\n",
    "class RandomCropResize(object):\n",
    "    def __init__(self, crop_area):\n",
    "        self.cw = crop_area\n",
    "        self.ch = crop_area\n",
    "\n",
    "    def __call__(self, img, label):\n",
    "        if np.random.random() < 0.5:\n",
    "            h, w = img.shape[:2]\n",
    "            x1 = np.random.randint(0, np.min([self.cw, int(w/2)]))\n",
    "            y1 = np.random.randint(0, np.min([self.ch, int(h/2)]))\n",
    "            \n",
    "            img_crop = img[y1:h-y1, x1:w-x1]\n",
    "            label_crop = label[y1:h-y1, x1:w-x1]\n",
    "\n",
    "            img_crop = cv2.resize(img_crop, (w, h), interpolation=cv2.INTER_NEAREST)\n",
    "            label_crop = cv2.resize(label_crop, (w,h), interpolation=cv2.INTER_NEAREST)\n",
    "            return img_crop, label_crop\n",
    "        else:\n",
    "            return [img, label]\n",
    "\n",
    "class RandomFlip(object):\n",
    "    def __call__(self, image, label):\n",
    "        if np.random.random() < 0.5:\n",
    "                image = cv2.flip(image, 1) # veritcal flip\n",
    "                label = cv2.flip(label, 1)  # veritcal flip\n",
    "        return [image, label]\n",
    "\n",
    "\n",
    "class Compose(object):\n",
    "    def __init__(self, transforms):\n",
    "        self.transforms = transforms\n",
    "\n",
    "    def __call__(self, *args):\n",
    "        for t in self.transforms:\n",
    "            args = t(*args)\n",
    "        return args"
   ]
  },
  {
   "cell_type": "code",
   "execution_count": 18,
   "metadata": {
    "colab": {},
    "colab_type": "code",
    "id": "sqiYKTOKBHGw"
   },
   "outputs": [],
   "source": [
    "train_transform = Compose([\n",
    "    Crop(300, 400),\n",
    "    RandomCropResize(150),\n",
    "    RandomFlip(),\n",
    "    Scale(192, 256)\n",
    "    ])\n",
    "\n",
    "val_transform = Compose([\n",
    "    Crop(300, 400),\n",
    "    RandomCropResize(150),\n",
    "    RandomFlip(),\n",
    "    Scale(192, 256)\n",
    "    ])"
   ]
  },
  {
   "cell_type": "code",
   "execution_count": 19,
   "metadata": {
    "colab": {},
    "colab_type": "code",
    "id": "9u-xNDtYzyJw"
   },
   "outputs": [],
   "source": [
    "# Diretorio das imagens\n",
    "im_dir  = '../../Datasets/Eucalyptus2/Pred/'\n",
    "data_dir  = '../data/'\n",
    "\n",
    "img_ext = '.jpg'\n",
    "msk_ext = '.png'\n",
    "\n",
    "imfxy = sorted(os.listdir(im_dir))\n",
    "# imfxy = imfxy[80:100]\n",
    "imfx = [i for i in imfxy if i.endswith(img_ext)]\n",
    "imfx = np.array(imfx)\n",
    "\n",
    "imfy = [i for i in imfxy if i.endswith(msk_ext) and not i.endswith('_col.png')]\n",
    "imfy = np.array(imfy)\n"
   ]
  },
  {
   "cell_type": "code",
   "execution_count": 20,
   "metadata": {
    "colab": {
     "base_uri": "https://localhost:8080/",
     "height": 34
    },
    "colab_type": "code",
    "id": "L3MFKzkc03Cc",
    "outputId": "d4b6cf24-939d-4054-a7d8-da009d952508"
   },
   "outputs": [
    {
     "name": "stdout",
     "output_type": "stream",
     "text": [
      "4250 4250\n"
     ]
    }
   ],
   "source": [
    "print(len(imfx), len(imfy))"
   ]
  },
  {
   "cell_type": "code",
   "execution_count": 21,
   "metadata": {
    "colab": {},
    "colab_type": "code",
    "id": "0nNtENYmzyJy"
   },
   "outputs": [],
   "source": [
    "im_train = np.arange(len(imfx))\n",
    "brks = np.int0(np.linspace(0, len(imfx), 11))\n",
    "\n",
    "fold = 0\n",
    "np.random.seed(12345)\n",
    "fold_ord = np.random.choice(im_train, len(imfx), replace=False)\n",
    "im_val = np.sort(fold_ord[brks[fold]:brks[fold +1]])\n",
    "im_train = np.setdiff1d(im_train,im_val)"
   ]
  },
  {
   "cell_type": "code",
   "execution_count": 22,
   "metadata": {
    "colab": {},
    "colab_type": "code",
    "id": "v2Qq89BdzyJz"
   },
   "outputs": [],
   "source": [
    "train_dataset =  MyDataset(im_dir, imfx[im_train], imfy[im_train], train_transform)\n",
    "val_dataset =  MyDataset(im_dir, imfx[im_val], imfy[im_val], val_transform)"
   ]
  },
  {
   "cell_type": "code",
   "execution_count": 23,
   "metadata": {
    "colab": {
     "base_uri": "https://localhost:8080/",
     "height": 34
    },
    "colab_type": "code",
    "id": "c1fuv6LmzyJ2",
    "outputId": "059e9856-419d-43fd-e04d-1dd86f4e9099"
   },
   "outputs": [
    {
     "name": "stdout",
     "output_type": "stream",
     "text": [
      "3825 425\n"
     ]
    }
   ],
   "source": [
    "print(len(train_dataset), len(val_dataset))"
   ]
  },
  {
   "cell_type": "code",
   "execution_count": 24,
   "metadata": {
    "colab": {},
    "colab_type": "code",
    "id": "Nz2w5lx0zyJ5"
   },
   "outputs": [],
   "source": [
    "# Carrega o dataset de treinamento\n",
    "train_loader = torch.utils.data.DataLoader(train_dataset,\n",
    "                          batch_size=50,\n",
    "                          shuffle=True,\n",
    "                          num_workers=0\n",
    "                         )\n",
    "\n",
    "# Carrega o dataset de validação\n",
    "val_loader = torch.utils.data.DataLoader(val_dataset,\n",
    "                          batch_size=50,\n",
    "                          shuffle=False,\n",
    "                          num_workers=0\n",
    "                         )"
   ]
  },
  {
   "cell_type": "code",
   "execution_count": 137,
   "metadata": {
    "colab": {
     "base_uri": "https://localhost:8080/",
     "height": 34
    },
    "colab_type": "code",
    "id": "Tc_23uZUzyJ9",
    "outputId": "e1d9d472-9806-4bdc-b76a-4f45f1612c13"
   },
   "outputs": [
    {
     "name": "stdout",
     "output_type": "stream",
     "text": [
      "96630\n"
     ]
    }
   ],
   "source": [
    "# Atribui o modelo\n",
    "model = net.EESPNet_Seg(4, s=0.5, pretrained='', gpus=1)\n",
    "model = model.to(device)\n",
    "# model.load_state_dict(torch.load('../data/Trackingf.pth', map_location=device))\n",
    "\n",
    "print(count_parameters(model))\n"
   ]
  },
  {
   "cell_type": "code",
   "execution_count": 25,
   "metadata": {
    "colab": {},
    "colab_type": "code",
    "id": "o7ZqoCfCzyJ_"
   },
   "outputs": [],
   "source": [
    "learning_rate = 1e-3\n",
    "criterion = torch.nn.CrossEntropyLoss()\n",
    "optimizer = torch.optim.Adam(model.parameters(), learning_rate, (0.9, 0.999), eps=1e-08, weight_decay=5e-4)"
   ]
  },
  {
   "cell_type": "code",
   "execution_count": 26,
   "metadata": {
    "colab": {
     "base_uri": "https://localhost:8080/",
     "height": 746
    },
    "colab_type": "code",
    "id": "BQMUiy5MzyKA",
    "outputId": "399b9a8e-eac9-49b9-fdd8-37ee0bc0d110"
   },
   "outputs": [
    {
     "data": {
      "image/png": "[encoded data removed]",
      "text/plain": [
       "<Figure size 864x576 with 1 Axes>"
      ]
     },
     "metadata": {
      "needs_background": "light"
     },
     "output_type": "display_data"
    },
    {
     "name": "stdout",
     "output_type": "stream",
     "text": [
      "log loss:\n",
      "training   (min:    0.156, max:    0.208, cur:    0.156)\n",
      "validation (min:    0.142, max:    0.185, cur:    0.146)\n",
      "Fold: 0, [11:36] loss: 0.156 time:38.46\n"
     ]
    },
    {
     "ename": "KeyboardInterrupt",
     "evalue": "",
     "output_type": "error",
     "traceback": [
      "\u001b[0;31m---------------------------------------------------------------------------\u001b[0m",
      "\u001b[0;31mKeyboardInterrupt\u001b[0m                         Traceback (most recent call last)",
      "\u001b[0;32m<ipython-input-26-7c80bc6182ad>\u001b[0m in \u001b[0;36m<module>\u001b[0;34m\u001b[0m\n\u001b[1;32m     21\u001b[0m \u001b[0;34m\u001b[0m\u001b[0m\n\u001b[1;32m     22\u001b[0m         \u001b[0;31m# Obtem os gradientes\u001b[0m\u001b[0;34m\u001b[0m\u001b[0;34m\u001b[0m\u001b[0;34m\u001b[0m\u001b[0m\n\u001b[0;32m---> 23\u001b[0;31m         \u001b[0mloss\u001b[0m\u001b[0;34m.\u001b[0m\u001b[0mbackward\u001b[0m\u001b[0;34m(\u001b[0m\u001b[0;34m)\u001b[0m\u001b[0;34m\u001b[0m\u001b[0;34m\u001b[0m\u001b[0m\n\u001b[0m\u001b[1;32m     24\u001b[0m \u001b[0;34m\u001b[0m\u001b[0m\n\u001b[1;32m     25\u001b[0m         \u001b[0;31m# Atualiza os parâmetros\u001b[0m\u001b[0;34m\u001b[0m\u001b[0;34m\u001b[0m\u001b[0;34m\u001b[0m\u001b[0m\n",
      "\u001b[0;32m~/.conda/envs/ANN/lib/python3.6/site-packages/torch/tensor.py\u001b[0m in \u001b[0;36mbackward\u001b[0;34m(self, gradient, retain_graph, create_graph)\u001b[0m\n\u001b[1;32m    105\u001b[0m                 \u001b[0mproducts\u001b[0m\u001b[0;34m.\u001b[0m \u001b[0mDefaults\u001b[0m \u001b[0mto\u001b[0m\u001b[0;31m \u001b[0m\u001b[0;31m`\u001b[0m\u001b[0;31m`\u001b[0m\u001b[0;32mFalse\u001b[0m\u001b[0;31m`\u001b[0m\u001b[0;31m`\u001b[0m\u001b[0;34m.\u001b[0m\u001b[0;34m\u001b[0m\u001b[0;34m\u001b[0m\u001b[0m\n\u001b[1;32m    106\u001b[0m         \"\"\"\n\u001b[0;32m--> 107\u001b[0;31m         \u001b[0mtorch\u001b[0m\u001b[0;34m.\u001b[0m\u001b[0mautograd\u001b[0m\u001b[0;34m.\u001b[0m\u001b[0mbackward\u001b[0m\u001b[0;34m(\u001b[0m\u001b[0mself\u001b[0m\u001b[0;34m,\u001b[0m \u001b[0mgradient\u001b[0m\u001b[0;34m,\u001b[0m \u001b[0mretain_graph\u001b[0m\u001b[0;34m,\u001b[0m \u001b[0mcreate_graph\u001b[0m\u001b[0;34m)\u001b[0m\u001b[0;34m\u001b[0m\u001b[0;34m\u001b[0m\u001b[0m\n\u001b[0m\u001b[1;32m    108\u001b[0m \u001b[0;34m\u001b[0m\u001b[0m\n\u001b[1;32m    109\u001b[0m     \u001b[0;32mdef\u001b[0m \u001b[0mregister_hook\u001b[0m\u001b[0;34m(\u001b[0m\u001b[0mself\u001b[0m\u001b[0;34m,\u001b[0m \u001b[0mhook\u001b[0m\u001b[0;34m)\u001b[0m\u001b[0;34m:\u001b[0m\u001b[0;34m\u001b[0m\u001b[0;34m\u001b[0m\u001b[0m\n",
      "\u001b[0;32m~/.conda/envs/ANN/lib/python3.6/site-packages/torch/autograd/__init__.py\u001b[0m in \u001b[0;36mbackward\u001b[0;34m(tensors, grad_tensors, retain_graph, create_graph, grad_variables)\u001b[0m\n\u001b[1;32m     91\u001b[0m     Variable._execution_engine.run_backward(\n\u001b[1;32m     92\u001b[0m         \u001b[0mtensors\u001b[0m\u001b[0;34m,\u001b[0m \u001b[0mgrad_tensors\u001b[0m\u001b[0;34m,\u001b[0m \u001b[0mretain_graph\u001b[0m\u001b[0;34m,\u001b[0m \u001b[0mcreate_graph\u001b[0m\u001b[0;34m,\u001b[0m\u001b[0;34m\u001b[0m\u001b[0;34m\u001b[0m\u001b[0m\n\u001b[0;32m---> 93\u001b[0;31m         allow_unreachable=True)  # allow_unreachable flag\n\u001b[0m\u001b[1;32m     94\u001b[0m \u001b[0;34m\u001b[0m\u001b[0m\n\u001b[1;32m     95\u001b[0m \u001b[0;34m\u001b[0m\u001b[0m\n",
      "\u001b[0;31mKeyboardInterrupt\u001b[0m: "
     ]
    }
   ],
   "source": [
    "min_loss = 1e9\n",
    "bad_epochs = 0\n",
    "\n",
    "liveloss = PlotLosses()\n",
    "for epoch in range(100):\n",
    "    bad_epochs += 1\n",
    "    start_time = time.time()\n",
    "    epoch_loss = []\n",
    "    val_loss = []\n",
    "    \n",
    "    model.train()\n",
    "    for (imgs, labels) in train_loader:\n",
    "        \n",
    "        #-------------------------------------------\n",
    "        # Obtem o output\n",
    "        pred, feat = model(imgs)\n",
    "        loss = criterion(pred, labels)\n",
    "        \n",
    "        # Limpa os gradientes\n",
    "        optimizer.zero_grad()\n",
    "\n",
    "        # Obtem os gradientes\n",
    "        loss.backward()\n",
    "\n",
    "        # Atualiza os parâmetros\n",
    "        optimizer.step()\n",
    "\n",
    "        epoch_loss.append(loss.data.item())\n",
    "    \n",
    "    model.eval()\n",
    "    with torch.no_grad():\n",
    "        for (imgs, labels) in val_loader:\n",
    "\n",
    "            pred, feat = model(imgs)\n",
    "            loss = criterion(pred, labels)\n",
    "\n",
    "            val_loss.append(loss.data.item())\n",
    "        \n",
    "    epoch_loss = np.array(epoch_loss).mean()\n",
    "    val_loss = np.array(val_loss).mean()\n",
    "    time_taken = time.time() - start_time\n",
    "    \n",
    "    #save the model\n",
    "    model_file_name = '../data/Trackingff.pth'\n",
    "    if val_loss < min_loss:\n",
    "        torch.save(model.state_dict(), model_file_name)\n",
    "        min_loss = val_loss\n",
    "        bad_epochs = 0\n",
    "    if bad_epochs > 100:\n",
    "        break\n",
    "\n",
    "    liveloss.update({\n",
    "        'log loss': epoch_loss,\n",
    "        'val_log loss': val_loss\n",
    "    })\n",
    "    liveloss.draw()\n",
    "    print('Fold: %d, [%d:%d] loss: %.3f time:%.2f' % (fold, bad_epochs, epoch, epoch_loss, time_taken))\n",
    "    "
   ]
  },
  {
   "cell_type": "code",
   "execution_count": 27,
   "metadata": {
    "colab": {
     "base_uri": "https://localhost:8080/",
     "height": 34
    },
    "colab_type": "code",
    "id": "d8RWN0kDzyKC",
    "outputId": "987379f8-fe13-4c3c-85ef-b070debad7d4"
   },
   "outputs": [
    {
     "name": "stdout",
     "output_type": "stream",
     "text": [
      "Modelo OK\n"
     ]
    }
   ],
   "source": [
    "# Carrega os pesos de um modelo salvo\n",
    "model.load_state_dict(torch.load('../data/Trackingff.pth', map_location=device))\n",
    "\n",
    "# Coloca em modo de avaliação\n",
    "model.eval()\n",
    "\n",
    "print('Modelo OK')"
   ]
  },
  {
   "cell_type": "code",
   "execution_count": 28,
   "metadata": {
    "colab": {
     "base_uri": "https://localhost:8080/",
     "height": 34
    },
    "colab_type": "code",
    "id": "W7B52YVuzyKD",
    "outputId": "d868262c-b509-4819-cacb-5cb99c6922fa"
   },
   "outputs": [
    {
     "name": "stdout",
     "output_type": "stream",
     "text": [
      "time:3.79\n"
     ]
    }
   ],
   "source": [
    "start_time = time.time()\n",
    "y_preds = []\n",
    "y_obs = []\n",
    "x_obs = []\n",
    "\n",
    "with torch.no_grad():\n",
    "    for (imgs, labels) in val_loader:\n",
    "        # Obtem o output\n",
    "        pred, feat = model(imgs)\n",
    "        y_preds.append(pred.cpu().data.numpy())\n",
    "        x_obs.append(imgs.cpu().data.numpy())\n",
    "        y_obs.append(labels.cpu().data.numpy())\n",
    "\n",
    "y_preds = np.concatenate(y_preds)\n",
    "x_obs = np.concatenate(x_obs)\n",
    "y_obs = np.concatenate(y_obs)\n",
    "\n",
    "time_taken = time.time() - start_time\n",
    "print('time:%.2f' % (time_taken))"
   ]
  },
  {
   "cell_type": "code",
   "execution_count": 32,
   "metadata": {
    "colab": {
     "base_uri": "https://localhost:8080/",
     "height": 286
    },
    "colab_type": "code",
    "id": "Y2OHtd03zyKG",
    "outputId": "2e993feb-a133-4580-bd91-8b1eeea11d8c"
   },
   "outputs": [
    {
     "data": {
      "text/plain": [
       "<matplotlib.image.AxesImage at 0x7f835812df98>"
      ]
     },
     "execution_count": 32,
     "metadata": {},
     "output_type": "execute_result"
    },
    {
     "data": {
      "image/png": "[encoded data removed]",
      "text/plain": [
       "<Figure size 432x288 with 1 Axes>"
      ]
     },
     "metadata": {
      "needs_background": "light"
     },
     "output_type": "display_data"
    }
   ],
   "source": [
    "idx = 25\n",
    "im = train_dataset.__back_transform__(x_obs[idx].copy())\n",
    "plt.imshow(im[:,:,[2,1,0]])"
   ]
  },
  {
   "cell_type": "code",
   "execution_count": 33,
   "metadata": {
    "colab": {
     "base_uri": "https://localhost:8080/",
     "height": 286
    },
    "colab_type": "code",
    "id": "CB459Z9NzyKJ",
    "outputId": "baab1e5f-ab99-4d16-e70f-baa77d4f1406"
   },
   "outputs": [
    {
     "data": {
      "text/plain": [
       "<matplotlib.image.AxesImage at 0x7f8353cc34e0>"
      ]
     },
     "execution_count": 33,
     "metadata": {},
     "output_type": "execute_result"
    },
    {
     "data": {
      "image/png": "[encoded data removed]",
      "text/plain": [
       "<Figure size 432x288 with 1 Axes>"
      ]
     },
     "metadata": {
      "needs_background": "light"
     },
     "output_type": "display_data"
    }
   ],
   "source": [
    "plt.imshow(y_obs[idx])"
   ]
  },
  {
   "cell_type": "code",
   "execution_count": 34,
   "metadata": {
    "colab": {
     "base_uri": "https://localhost:8080/",
     "height": 302
    },
    "colab_type": "code",
    "id": "vs7R25IbzyKL",
    "outputId": "282190b0-086b-4376-f730-e29306b8d908"
   },
   "outputs": [
    {
     "data": {
      "text/plain": [
       "<matplotlib.image.AxesImage at 0x7f83581b4278>"
      ]
     },
     "execution_count": 34,
     "metadata": {},
     "output_type": "execute_result"
    },
    {
     "data": {
      "image/png": "[encoded data removed]",
      "text/plain": [
       "<Figure size 432x288 with 1 Axes>"
      ]
     },
     "metadata": {
      "needs_background": "light"
     },
     "output_type": "display_data"
    }
   ],
   "source": [
    "imp = np.moveaxis(y_preds[idx].copy(), 0, 2)\n",
    "plt.imshow(imp.argmax(2))"
   ]
  },
  {
   "cell_type": "code",
   "execution_count": null,
   "metadata": {
    "colab": {},
    "colab_type": "code",
    "id": "Ik-xihLLzyKO"
   },
   "outputs": [],
   "source": []
  },
  {
   "cell_type": "code",
   "execution_count": null,
   "metadata": {},
   "outputs": [],
   "source": []
  }
 ],
 "metadata": {
  "accelerator": "GPU",
  "colab": {
   "collapsed_sections": [],
   "include_colab_link": true,
   "name": "Tracking_Train_Model.ipynb",
   "provenance": [],
   "version": "0.3.2"
  },
  "kernelspec": {
   "display_name": "Python 3",
   "language": "python",
   "name": "python3"
  }
 },
 "nbformat": 4,
 "nbformat_minor": 1
}
