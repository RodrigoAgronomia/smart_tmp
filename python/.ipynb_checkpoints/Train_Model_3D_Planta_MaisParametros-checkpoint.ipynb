{
 "cells": [
  {
   "cell_type": "code",
   "execution_count": 1,
   "metadata": {
    "colab": {
     "base_uri": "https://localhost:8080/",
     "height": 34
    },
    "colab_type": "code",
    "executionInfo": {
     "elapsed": 1246,
     "status": "ok",
     "timestamp": 1566573296125,
     "user": {
      "displayName": "Matheus Henrique Miquelão Cecilio",
      "photoUrl": "https://lh3.googleusercontent.com/a-/AAuE7mAyYbmI3LX9gbx0Me7LbOE79_iChuXtDQ0mEfa6uA=s64",
      "userId": "15641299195152673709"
     },
     "user_tz": 180
    },
    "id": "cmBxRG-DCR1_",
    "outputId": "5f8efdc8-4532-4275-b541-3c6cc3287d8d"
   },
   "outputs": [
    {
     "name": "stdout",
     "output_type": "stream",
     "text": [
      "cuda\n"
     ]
    }
   ],
   "source": [
    "import os\n",
    "import cv2\n",
    "import time\n",
    "import pandas as pd\n",
    "import numpy as np\n",
    "import torch\n",
    "import torch.nn as nn\n",
    "import torch.nn.functional as F\n",
    "import torchvision\n",
    "import matplotlib.pyplot as plt\n",
    "from torch.autograd import Variable\n",
    "from livelossplot import PlotLosses\n",
    "from torchsummary import summary\n",
    "from sklearn import preprocessing\n",
    "\n",
    "device = 'cuda' if torch.cuda.is_available() else 'cpu'\n",
    "print(device)"
   ]
  },
  {
   "cell_type": "code",
   "execution_count": 2,
   "metadata": {},
   "outputs": [],
   "source": [
    "from cnn.Model import EESPNet_Reg"
   ]
  },
  {
   "cell_type": "code",
   "execution_count": 3,
   "metadata": {
    "colab": {},
    "colab_type": "code",
    "id": "FrS7AOBNCR2D"
   },
   "outputs": [],
   "source": [
    "def count_parameters(model):\n",
    "    return sum(p.numel() for p in model.parameters() if p.requires_grad)"
   ]
  },
  {
   "cell_type": "code",
   "execution_count": 4,
   "metadata": {
    "colab": {},
    "colab_type": "code",
    "id": "OTmXBhcMCR2G"
   },
   "outputs": [],
   "source": [
    "class PredModel(torch.nn.Module):\n",
    "    def __init__(self, pred_dim):\n",
    "        super(PredModel, self).__init__()\n",
    "        \n",
    "        # Prediciton layers\n",
    "        self.pred_layers = []\n",
    "        for i in range(len(pred_dim) - 1):\n",
    "            pred_layer = nn.Sequential(\n",
    "                nn.Linear(pred_dim[i][0], pred_dim[i + 1][0]),\n",
    "                nn.LeakyReLU(),\n",
    "                nn.Dropout(pred_dim[i + 1][1])\n",
    "            )\n",
    "            self.pred_layers.append(pred_layer)\n",
    "        self.pred_layers.append(nn.Linear(pred_dim[-1][0], 4)) #Trocar aqui\n",
    "        self.pred_layers = nn.Sequential(*self.pred_layers)\n",
    "\n",
    "\n",
    "    def forward(self, feats):\n",
    "        pred = self.pred_layers(feats)\n",
    "        return(pred)"
   ]
  },
  {
   "cell_type": "code",
   "execution_count": 5,
   "metadata": {
    "colab": {},
    "colab_type": "code",
    "id": "HyOSkqx1CR2I"
   },
   "outputs": [],
   "source": [
    "\n",
    "def calc_pad(shp):\n",
    "    shpd = np.array([400, 200]) - shp\n",
    "    shpl = shpd - np.int0(shpd/2)\n",
    "    shpr = shpd - shpl\n",
    "    shpp = ((0,0), (shpl[0], shpr[0]), (shpl[1], shpr[1]))\n",
    "    return(shpp)\n",
    "\n",
    "class MyDataset(torch.utils.data.Dataset):\n",
    "    '''\n",
    "    Class to load the dataset\n",
    "    '''\n",
    "    def __init__(self, im_dir, imList, labels):\n",
    "        '''\n",
    "        :param imList: image list (Note that these lists have been processed and pickled using the loadData.py)\n",
    "        :param labelList: label list (Note that these lists have been processed and pickled using the loadData.py)\n",
    "        '''          \n",
    "        data = []\n",
    "        for idx in range(len(imList)):\n",
    "            image_names = imList[idx]\n",
    "            label = labels[idx]\n",
    "            img_list = []\n",
    "            for image_name in image_names:\n",
    "                im_name = os.path.join(im_dir, image_name)\n",
    "                image = cv2.imread(im_name)\n",
    "                image = cv2.resize(image, (np.min([200, int(image.shape[1]/4)]), np.min([400, int(image.shape[0]/4)])))\n",
    "                image = np.moveaxis(image, 2, 0)\n",
    "                image = np.pad(image, calc_pad(np.array(image.shape[1:])), 'constant', constant_values=(255))\n",
    "                image = image.astype('float')\n",
    "                image -= 128\n",
    "                image /= 35\n",
    "                img_list.append(torch.from_numpy(image))\n",
    "\n",
    "            label = torch.from_numpy(label)\n",
    "            data.append([img_list, label])\n",
    "        self.data = data\n",
    "\n",
    "    def __len__(self):\n",
    "        return len(self.data)\n",
    "\n",
    "    def __getitem__(self, idx):\n",
    "        '''\n",
    "\n",
    "        :param idx: Index of the image file\n",
    "        :return: returns the image and corresponding label file.\n",
    "        '''\n",
    "        img_list, label = self.data[idx]\n",
    "        images = [Variable(i).to(device, dtype=torch.float) for i in img_list]\n",
    "        label = Variable(label).to(device, dtype=torch.float)\n",
    "        \n",
    "        return (images, label)"
   ]
  },
  {
   "cell_type": "code",
   "execution_count": 6,
   "metadata": {
    "colab": {},
    "colab_type": "code",
    "id": "42sfY69BCR2L"
   },
   "outputs": [],
   "source": [
    "# Diretório das imagens\n",
    "data_dir  = '../../Datasets/Eucalyptus3/Jetson/'\n",
    "im_dir  = '../../Datasets/Eucalyptus3/Jetson/Jetson_Imgs2/'\n",
    "# Lê o diâmetro das mudas no arquivo csv\n",
    "imfs = pd.read_csv(os.path.join(data_dir, 'Dataset_Jetson_2.csv'), sep = ',', decimal= '.', header = 0)\n",
    "\n",
    "#y_target = imfs.n_folhas.values.astype('float')\n",
    "#y_target -= 10\n",
    "#y_target /= y_target.std()\n",
    "\n",
    "# Carrega os dados\n",
    "y_folhas = imfs.n_folhas.values.astype('float')\n",
    "y_brotos = imfs.n_brotos.values.astype('float')\n",
    "y_folhas_brotos = imfs.n_folha_broto.values.astype('float')\n",
    "y_folhas_apicais = imfs.folhas_apicais.values.astype('float')\n",
    "y_target = np.stack((y_folhas, y_brotos,y_folhas_brotos,y_folhas_apicais), axis=-1)\n",
    "\n",
    "# Faz a normalização dos dados\n",
    "#y_target = preprocessing.normalize(y_target, norm='l2')\n",
    "#maxx = np.max(y_target)\n",
    "minimo = y_target.min(0)\n",
    "maximo = y_target.max(0)\n",
    "y_target = (y_target-minimo)/(maximo-minimo)\n",
    "# Cria os dataframes e cria os conjuntos de treinamento e validação\n",
    "im_train = np.arange(len(imfs))\n",
    "im_val = np.random.choice(im_train, 10, replace=False)\n",
    "im_train = np.setdiff1d(im_train,im_val)"
   ]
  },
  {
   "cell_type": "code",
   "execution_count": 7,
   "metadata": {
    "colab": {},
    "colab_type": "code",
    "id": "QhC_lGL4CR2P"
   },
   "outputs": [],
   "source": [
    "train_dataset =  MyDataset(im_dir, imfs.values[im_train,5:], y_target[im_train])\n",
    "\n",
    "val_dataset =  MyDataset(im_dir, imfs.values[im_val,5:], y_target[im_val])"
   ]
  },
  {
   "cell_type": "code",
   "execution_count": 8,
   "metadata": {},
   "outputs": [
    {
     "name": "stdout",
     "output_type": "stream",
     "text": [
      "54 10\n"
     ]
    }
   ],
   "source": [
    "print(len(train_dataset), len(val_dataset))"
   ]
  },
  {
   "cell_type": "code",
   "execution_count": 9,
   "metadata": {
    "colab": {},
    "colab_type": "code",
    "id": "v2KQxhlRCR2S"
   },
   "outputs": [],
   "source": [
    "# Carrega o dataset de treinamento\n",
    "train_loader = torch.utils.data.DataLoader(train_dataset,\n",
    "                          batch_size=10,\n",
    "                          shuffle=True,\n",
    "                          num_workers=0\n",
    "                         )\n",
    "\n",
    "# Carrega o dataset de validação\n",
    "val_loader = torch.utils.data.DataLoader(val_dataset,\n",
    "                          batch_size=10,\n",
    "                          shuffle=True,\n",
    "                          num_workers=0\n",
    "                         )"
   ]
  },
  {
   "cell_type": "code",
   "execution_count": 89,
   "metadata": {
    "colab": {
     "base_uri": "https://localhost:8080/",
     "height": 554
    },
    "colab_type": "code",
    "executionInfo": {
     "elapsed": 412,
     "status": "ok",
     "timestamp": 1566573369239,
     "user": {
      "displayName": "Matheus Henrique Miquelão Cecilio",
      "photoUrl": "https://lh3.googleusercontent.com/a-/AAuE7mAyYbmI3LX9gbx0Me7LbOE79_iChuXtDQ0mEfa6uA=s64",
      "userId": "15641299195152673709"
     },
     "user_tz": 180
    },
    "id": "3nCOfgH_CR2d",
    "outputId": "482526ec-29bb-46c4-b8c1-59d0f195e439"
   },
   "outputs": [
    {
     "name": "stdout",
     "output_type": "stream",
     "text": [
      "----------------------------------------------------------------\n",
      "        Layer (type)               Output Shape         Param #\n",
      "================================================================\n",
      "            Linear-1                   [-1, 32]           5,152\n",
      "         LeakyReLU-2                   [-1, 32]               0\n",
      "            Linear-3                    [-1, 4]             132\n",
      "         LeakyReLU-4                    [-1, 4]               0\n",
      "            Linear-5                    [-1, 4]              20\n",
      "================================================================\n",
      "Total params: 5,304\n",
      "Trainable params: 5,304\n",
      "Non-trainable params: 0\n",
      "----------------------------------------------------------------\n",
      "Input size (MB): 0.00\n",
      "Forward/backward pass size (MB): 0.00\n",
      "Params size (MB): 0.02\n",
      "Estimated Total Size (MB): 0.02\n",
      "----------------------------------------------------------------\n"
     ]
    }
   ],
   "source": [
    "fct_dim = [160, 32,  4]\n",
    "fct_dropout = 0.1\n",
    "fct_dim = [[x, fct_dropout] for x in fct_dim]\n",
    "\n",
    "# Atribui o modelo\n",
    "modelp = PredModel(fct_dim)\n",
    "modelp = modelp.to(device)\n",
    "# modelp.load_state_dict(torch.load('../data/PredModel_tmp.pth',map_location=device), strict=False)\n",
    "\n",
    "summary(modelp, input_size= (160,))"
   ]
  },
  {
   "cell_type": "code",
   "execution_count": 90,
   "metadata": {
    "colab": {
     "base_uri": "https://localhost:8080/",
     "height": 622
    },
    "colab_type": "code",
    "executionInfo": {
     "elapsed": 4821,
     "status": "ok",
     "timestamp": 1566573367643,
     "user": {
      "displayName": "Matheus Henrique Miquelão Cecilio",
      "photoUrl": "https://lh3.googleusercontent.com/a-/AAuE7mAyYbmI3LX9gbx0Me7LbOE79_iChuXtDQ0mEfa6uA=s64",
      "userId": "15641299195152673709"
     },
     "user_tz": 180
    },
    "id": "EFuHJYve5W_S",
    "outputId": "01f90165-01ed-4e65-9fd1-f51e4a42a90f"
   },
   "outputs": [
    {
     "name": "stdout",
     "output_type": "stream",
     "text": [
      "----------------------------------------------------------------\n",
      "        Layer (type)               Output Shape         Param #\n",
      "================================================================\n",
      "            Conv2d-1          [-1, 8, 200, 100]             216\n",
      "       BatchNorm2d-2          [-1, 8, 200, 100]              16\n",
      "             PReLU-3          [-1, 8, 200, 100]               8\n",
      "               CBR-4          [-1, 8, 200, 100]               0\n",
      "         AvgPool2d-5           [-1, 8, 100, 50]               0\n",
      "            Conv2d-6          [-1, 4, 200, 100]              16\n",
      "       BatchNorm2d-7          [-1, 4, 200, 100]               8\n",
      "             PReLU-8          [-1, 4, 200, 100]               4\n",
      "               CBR-9          [-1, 4, 200, 100]               0\n",
      "           Conv2d-10           [-1, 4, 100, 50]              36\n",
      "         CDilated-11           [-1, 4, 100, 50]               0\n",
      "           Conv2d-12           [-1, 4, 100, 50]              36\n",
      "         CDilated-13           [-1, 4, 100, 50]               0\n",
      "      BatchNorm2d-14           [-1, 8, 100, 50]              16\n",
      "            PReLU-15           [-1, 8, 100, 50]               8\n",
      "               BR-16           [-1, 8, 100, 50]               0\n",
      "           Conv2d-17           [-1, 8, 100, 50]              32\n",
      "      BatchNorm2d-18           [-1, 8, 100, 50]              16\n",
      "               CB-19           [-1, 8, 100, 50]               0\n",
      "             EESP-20           [-1, 8, 100, 50]               0\n",
      "           Conv2d-21           [-1, 3, 100, 50]              81\n",
      "      BatchNorm2d-22           [-1, 3, 100, 50]               6\n",
      "            PReLU-23           [-1, 3, 100, 50]               3\n",
      "              CBR-24           [-1, 3, 100, 50]               0\n",
      "           Conv2d-25          [-1, 16, 100, 50]              48\n",
      "      BatchNorm2d-26          [-1, 16, 100, 50]              32\n",
      "               CB-27          [-1, 16, 100, 50]               0\n",
      "            PReLU-28          [-1, 16, 100, 50]              16\n",
      "      DownSampler-29          [-1, 16, 100, 50]               0\n",
      "        AvgPool2d-30           [-1, 16, 50, 25]               0\n",
      "           Conv2d-31           [-1, 8, 100, 50]              64\n",
      "      BatchNorm2d-32           [-1, 8, 100, 50]              16\n",
      "            PReLU-33           [-1, 8, 100, 50]               8\n",
      "              CBR-34           [-1, 8, 100, 50]               0\n",
      "           Conv2d-35            [-1, 8, 50, 25]              72\n",
      "         CDilated-36            [-1, 8, 50, 25]               0\n",
      "           Conv2d-37            [-1, 8, 50, 25]              72\n",
      "         CDilated-38            [-1, 8, 50, 25]               0\n",
      "      BatchNorm2d-39           [-1, 16, 50, 25]              32\n",
      "            PReLU-40           [-1, 16, 50, 25]              16\n",
      "               BR-41           [-1, 16, 50, 25]               0\n",
      "           Conv2d-42           [-1, 16, 50, 25]             128\n",
      "      BatchNorm2d-43           [-1, 16, 50, 25]              32\n",
      "               CB-44           [-1, 16, 50, 25]               0\n",
      "             EESP-45           [-1, 16, 50, 25]               0\n",
      "           Conv2d-46            [-1, 3, 50, 25]              81\n",
      "      BatchNorm2d-47            [-1, 3, 50, 25]               6\n",
      "            PReLU-48            [-1, 3, 50, 25]               3\n",
      "              CBR-49            [-1, 3, 50, 25]               0\n",
      "           Conv2d-50           [-1, 32, 50, 25]              96\n",
      "      BatchNorm2d-51           [-1, 32, 50, 25]              64\n",
      "               CB-52           [-1, 32, 50, 25]               0\n",
      "            PReLU-53           [-1, 32, 50, 25]              32\n",
      "      DownSampler-54           [-1, 32, 50, 25]               0\n",
      "           Conv2d-55           [-1, 16, 50, 25]             256\n",
      "      BatchNorm2d-56           [-1, 16, 50, 25]              32\n",
      "            PReLU-57           [-1, 16, 50, 25]              16\n",
      "              CBR-58           [-1, 16, 50, 25]               0\n",
      "           Conv2d-59           [-1, 16, 50, 25]             144\n",
      "         CDilated-60           [-1, 16, 50, 25]               0\n",
      "           Conv2d-61           [-1, 16, 50, 25]             144\n",
      "         CDilated-62           [-1, 16, 50, 25]               0\n",
      "      BatchNorm2d-63           [-1, 32, 50, 25]              64\n",
      "            PReLU-64           [-1, 32, 50, 25]              32\n",
      "               BR-65           [-1, 32, 50, 25]               0\n",
      "           Conv2d-66           [-1, 32, 50, 25]             512\n",
      "      BatchNorm2d-67           [-1, 32, 50, 25]              64\n",
      "               CB-68           [-1, 32, 50, 25]               0\n",
      "            PReLU-69           [-1, 32, 50, 25]              32\n",
      "             EESP-70           [-1, 32, 50, 25]               0\n",
      "           Conv2d-71           [-1, 16, 50, 25]             256\n",
      "      BatchNorm2d-72           [-1, 16, 50, 25]              32\n",
      "            PReLU-73           [-1, 16, 50, 25]              16\n",
      "              CBR-74           [-1, 16, 50, 25]               0\n",
      "           Conv2d-75           [-1, 16, 50, 25]             144\n",
      "         CDilated-76           [-1, 16, 50, 25]               0\n",
      "           Conv2d-77           [-1, 16, 50, 25]             144\n",
      "         CDilated-78           [-1, 16, 50, 25]               0\n",
      "      BatchNorm2d-79           [-1, 32, 50, 25]              64\n",
      "            PReLU-80           [-1, 32, 50, 25]              32\n",
      "               BR-81           [-1, 32, 50, 25]               0\n",
      "           Conv2d-82           [-1, 32, 50, 25]             512\n",
      "      BatchNorm2d-83           [-1, 32, 50, 25]              64\n",
      "               CB-84           [-1, 32, 50, 25]               0\n",
      "            PReLU-85           [-1, 32, 50, 25]              32\n",
      "             EESP-86           [-1, 32, 50, 25]               0\n",
      "           Conv2d-87           [-1, 16, 50, 25]             256\n",
      "      BatchNorm2d-88           [-1, 16, 50, 25]              32\n",
      "            PReLU-89           [-1, 16, 50, 25]              16\n",
      "              CBR-90           [-1, 16, 50, 25]               0\n",
      "           Conv2d-91           [-1, 16, 50, 25]             144\n",
      "         CDilated-92           [-1, 16, 50, 25]               0\n",
      "           Conv2d-93           [-1, 16, 50, 25]             144\n",
      "         CDilated-94           [-1, 16, 50, 25]               0\n",
      "      BatchNorm2d-95           [-1, 32, 50, 25]              64\n",
      "            PReLU-96           [-1, 32, 50, 25]              32\n",
      "               BR-97           [-1, 32, 50, 25]               0\n",
      "           Conv2d-98           [-1, 32, 50, 25]             512\n",
      "      BatchNorm2d-99           [-1, 32, 50, 25]              64\n",
      "              CB-100           [-1, 32, 50, 25]               0\n",
      "           PReLU-101           [-1, 32, 50, 25]              32\n",
      "            EESP-102           [-1, 32, 50, 25]               0\n",
      "       AvgPool2d-103           [-1, 32, 25, 13]               0\n",
      "          Conv2d-104           [-1, 16, 50, 25]             256\n",
      "     BatchNorm2d-105           [-1, 16, 50, 25]              32\n",
      "           PReLU-106           [-1, 16, 50, 25]              16\n",
      "             CBR-107           [-1, 16, 50, 25]               0\n",
      "          Conv2d-108           [-1, 16, 25, 13]             144\n",
      "        CDilated-109           [-1, 16, 25, 13]               0\n",
      "          Conv2d-110           [-1, 16, 25, 13]             144\n",
      "        CDilated-111           [-1, 16, 25, 13]               0\n",
      "     BatchNorm2d-112           [-1, 32, 25, 13]              64\n",
      "           PReLU-113           [-1, 32, 25, 13]              32\n",
      "              BR-114           [-1, 32, 25, 13]               0\n",
      "          Conv2d-115           [-1, 32, 25, 13]             512\n",
      "     BatchNorm2d-116           [-1, 32, 25, 13]              64\n",
      "              CB-117           [-1, 32, 25, 13]               0\n",
      "            EESP-118           [-1, 32, 25, 13]               0\n",
      "          Conv2d-119            [-1, 3, 25, 13]              81\n",
      "     BatchNorm2d-120            [-1, 3, 25, 13]               6\n",
      "           PReLU-121            [-1, 3, 25, 13]               3\n",
      "             CBR-122            [-1, 3, 25, 13]               0\n",
      "          Conv2d-123           [-1, 64, 25, 13]             192\n",
      "     BatchNorm2d-124           [-1, 64, 25, 13]             128\n",
      "              CB-125           [-1, 64, 25, 13]               0\n",
      "           PReLU-126           [-1, 64, 25, 13]              64\n",
      "     DownSampler-127           [-1, 64, 25, 13]               0\n",
      "          Conv2d-128           [-1, 32, 25, 13]           1,024\n",
      "     BatchNorm2d-129           [-1, 32, 25, 13]              64\n",
      "           PReLU-130           [-1, 32, 25, 13]              32\n",
      "             CBR-131           [-1, 32, 25, 13]               0\n",
      "          Conv2d-132           [-1, 32, 25, 13]             288\n",
      "        CDilated-133           [-1, 32, 25, 13]               0\n",
      "          Conv2d-134           [-1, 32, 25, 13]             288\n",
      "        CDilated-135           [-1, 32, 25, 13]               0\n",
      "     BatchNorm2d-136           [-1, 64, 25, 13]             128\n",
      "           PReLU-137           [-1, 64, 25, 13]              64\n",
      "              BR-138           [-1, 64, 25, 13]               0\n",
      "          Conv2d-139           [-1, 64, 25, 13]           2,048\n",
      "     BatchNorm2d-140           [-1, 64, 25, 13]             128\n",
      "              CB-141           [-1, 64, 25, 13]               0\n",
      "           PReLU-142           [-1, 64, 25, 13]              64\n",
      "            EESP-143           [-1, 64, 25, 13]               0\n",
      "          Conv2d-144           [-1, 32, 25, 13]           1,024\n",
      "     BatchNorm2d-145           [-1, 32, 25, 13]              64\n",
      "           PReLU-146           [-1, 32, 25, 13]              32\n",
      "             CBR-147           [-1, 32, 25, 13]               0\n",
      "          Conv2d-148           [-1, 32, 25, 13]             288\n",
      "        CDilated-149           [-1, 32, 25, 13]               0\n",
      "          Conv2d-150           [-1, 32, 25, 13]             288\n",
      "        CDilated-151           [-1, 32, 25, 13]               0\n",
      "     BatchNorm2d-152           [-1, 64, 25, 13]             128\n",
      "           PReLU-153           [-1, 64, 25, 13]              64\n",
      "              BR-154           [-1, 64, 25, 13]               0\n",
      "          Conv2d-155           [-1, 64, 25, 13]           2,048\n",
      "     BatchNorm2d-156           [-1, 64, 25, 13]             128\n",
      "              CB-157           [-1, 64, 25, 13]               0\n",
      "           PReLU-158           [-1, 64, 25, 13]              64\n",
      "            EESP-159           [-1, 64, 25, 13]               0\n",
      "          Conv2d-160           [-1, 32, 25, 13]           1,024\n",
      "     BatchNorm2d-161           [-1, 32, 25, 13]              64\n",
      "           PReLU-162           [-1, 32, 25, 13]              32\n",
      "             CBR-163           [-1, 32, 25, 13]               0\n",
      "          Conv2d-164           [-1, 32, 25, 13]             288\n",
      "        CDilated-165           [-1, 32, 25, 13]               0\n",
      "          Conv2d-166           [-1, 32, 25, 13]             288\n",
      "        CDilated-167           [-1, 32, 25, 13]               0\n",
      "     BatchNorm2d-168           [-1, 64, 25, 13]             128\n",
      "           PReLU-169           [-1, 64, 25, 13]              64\n",
      "              BR-170           [-1, 64, 25, 13]               0\n",
      "          Conv2d-171           [-1, 64, 25, 13]           2,048\n",
      "     BatchNorm2d-172           [-1, 64, 25, 13]             128\n",
      "              CB-173           [-1, 64, 25, 13]               0\n",
      "           PReLU-174           [-1, 64, 25, 13]              64\n",
      "            EESP-175           [-1, 64, 25, 13]               0\n",
      "          Conv2d-176           [-1, 32, 25, 13]           1,024\n",
      "     BatchNorm2d-177           [-1, 32, 25, 13]              64\n",
      "           PReLU-178           [-1, 32, 25, 13]              32\n",
      "             CBR-179           [-1, 32, 25, 13]               0\n",
      "          Conv2d-180           [-1, 32, 25, 13]             288\n",
      "        CDilated-181           [-1, 32, 25, 13]               0\n",
      "          Conv2d-182           [-1, 32, 25, 13]             288\n",
      "        CDilated-183           [-1, 32, 25, 13]               0\n",
      "     BatchNorm2d-184           [-1, 64, 25, 13]             128\n",
      "           PReLU-185           [-1, 64, 25, 13]              64\n",
      "              BR-186           [-1, 64, 25, 13]               0\n",
      "          Conv2d-187           [-1, 64, 25, 13]           2,048\n",
      "     BatchNorm2d-188           [-1, 64, 25, 13]             128\n",
      "              CB-189           [-1, 64, 25, 13]               0\n",
      "           PReLU-190           [-1, 64, 25, 13]              64\n",
      "            EESP-191           [-1, 64, 25, 13]               0\n",
      "          Conv2d-192           [-1, 32, 25, 13]           1,024\n",
      "     BatchNorm2d-193           [-1, 32, 25, 13]              64\n",
      "           PReLU-194           [-1, 32, 25, 13]              32\n",
      "             CBR-195           [-1, 32, 25, 13]               0\n",
      "          Conv2d-196           [-1, 32, 25, 13]             288\n",
      "        CDilated-197           [-1, 32, 25, 13]               0\n",
      "          Conv2d-198           [-1, 32, 25, 13]             288\n",
      "        CDilated-199           [-1, 32, 25, 13]               0\n",
      "     BatchNorm2d-200           [-1, 64, 25, 13]             128\n",
      "           PReLU-201           [-1, 64, 25, 13]              64\n",
      "              BR-202           [-1, 64, 25, 13]               0\n",
      "          Conv2d-203           [-1, 64, 25, 13]           2,048\n",
      "     BatchNorm2d-204           [-1, 64, 25, 13]             128\n",
      "              CB-205           [-1, 64, 25, 13]               0\n",
      "           PReLU-206           [-1, 64, 25, 13]              64\n",
      "            EESP-207           [-1, 64, 25, 13]               0\n",
      "       AvgPool2d-208            [-1, 64, 13, 7]               0\n",
      "          Conv2d-209           [-1, 32, 25, 13]           1,024\n",
      "     BatchNorm2d-210           [-1, 32, 25, 13]              64\n",
      "           PReLU-211           [-1, 32, 25, 13]              32\n",
      "             CBR-212           [-1, 32, 25, 13]               0\n",
      "          Conv2d-213            [-1, 32, 13, 7]             288\n",
      "        CDilated-214            [-1, 32, 13, 7]               0\n",
      "          Conv2d-215            [-1, 32, 13, 7]             288\n",
      "        CDilated-216            [-1, 32, 13, 7]               0\n",
      "     BatchNorm2d-217            [-1, 64, 13, 7]             128\n",
      "           PReLU-218            [-1, 64, 13, 7]              64\n",
      "              BR-219            [-1, 64, 13, 7]               0\n",
      "          Conv2d-220            [-1, 64, 13, 7]           2,048\n",
      "     BatchNorm2d-221            [-1, 64, 13, 7]             128\n",
      "              CB-222            [-1, 64, 13, 7]               0\n",
      "            EESP-223            [-1, 64, 13, 7]               0\n",
      "           PReLU-224           [-1, 128, 13, 7]             128\n",
      "     DownSampler-225           [-1, 128, 13, 7]               0\n",
      "          Conv2d-226            [-1, 64, 13, 7]           4,096\n",
      "     BatchNorm2d-227            [-1, 64, 13, 7]             128\n",
      "           PReLU-228            [-1, 64, 13, 7]              64\n",
      "             CBR-229            [-1, 64, 13, 7]               0\n",
      "          Conv2d-230            [-1, 64, 13, 7]             576\n",
      "        CDilated-231            [-1, 64, 13, 7]               0\n",
      "          Conv2d-232            [-1, 64, 13, 7]             576\n",
      "        CDilated-233            [-1, 64, 13, 7]               0\n",
      "     BatchNorm2d-234           [-1, 128, 13, 7]             256\n",
      "           PReLU-235           [-1, 128, 13, 7]             128\n",
      "              BR-236           [-1, 128, 13, 7]               0\n",
      "          Conv2d-237           [-1, 128, 13, 7]           8,192\n",
      "     BatchNorm2d-238           [-1, 128, 13, 7]             256\n",
      "              CB-239           [-1, 128, 13, 7]               0\n",
      "           PReLU-240           [-1, 128, 13, 7]             128\n",
      "            EESP-241           [-1, 128, 13, 7]               0\n",
      "          Conv2d-242            [-1, 64, 13, 7]           4,096\n",
      "     BatchNorm2d-243            [-1, 64, 13, 7]             128\n",
      "           PReLU-244            [-1, 64, 13, 7]              64\n",
      "             CBR-245            [-1, 64, 13, 7]               0\n",
      "          Conv2d-246            [-1, 64, 13, 7]             576\n",
      "        CDilated-247            [-1, 64, 13, 7]               0\n",
      "          Conv2d-248            [-1, 64, 13, 7]             576\n",
      "        CDilated-249            [-1, 64, 13, 7]               0\n",
      "     BatchNorm2d-250           [-1, 128, 13, 7]             256\n",
      "           PReLU-251           [-1, 128, 13, 7]             128\n",
      "              BR-252           [-1, 128, 13, 7]               0\n",
      "          Conv2d-253           [-1, 128, 13, 7]           8,192\n",
      "     BatchNorm2d-254           [-1, 128, 13, 7]             256\n",
      "              CB-255           [-1, 128, 13, 7]               0\n",
      "           PReLU-256           [-1, 128, 13, 7]             128\n",
      "            EESP-257           [-1, 128, 13, 7]               0\n",
      "          Conv2d-258            [-1, 64, 13, 7]           4,096\n",
      "     BatchNorm2d-259            [-1, 64, 13, 7]             128\n",
      "           PReLU-260            [-1, 64, 13, 7]              64\n",
      "             CBR-261            [-1, 64, 13, 7]               0\n",
      "          Conv2d-262            [-1, 64, 13, 7]             576\n",
      "        CDilated-263            [-1, 64, 13, 7]               0\n",
      "          Conv2d-264            [-1, 64, 13, 7]             576\n",
      "        CDilated-265            [-1, 64, 13, 7]               0\n",
      "     BatchNorm2d-266           [-1, 128, 13, 7]             256\n",
      "           PReLU-267           [-1, 128, 13, 7]             128\n",
      "              BR-268           [-1, 128, 13, 7]               0\n",
      "          Conv2d-269           [-1, 128, 13, 7]           8,192\n",
      "     BatchNorm2d-270           [-1, 128, 13, 7]             256\n",
      "              CB-271           [-1, 128, 13, 7]               0\n",
      "           PReLU-272           [-1, 128, 13, 7]             128\n",
      "            EESP-273           [-1, 128, 13, 7]               0\n",
      "          Conv2d-274           [-1, 128, 13, 7]           1,152\n",
      "     BatchNorm2d-275           [-1, 128, 13, 7]             256\n",
      "           PReLU-276           [-1, 128, 13, 7]             128\n",
      "             CBR-277           [-1, 128, 13, 7]               0\n",
      "          Conv2d-278            [-1, 16, 13, 7]           1,024\n",
      "     BatchNorm2d-279            [-1, 16, 13, 7]              32\n",
      "           PReLU-280            [-1, 16, 13, 7]              16\n",
      "             CBR-281            [-1, 16, 13, 7]               0\n",
      "          Linear-282                    [-1, 4]              68\n",
      "================================================================\n",
      "Total params: 77,654\n",
      "Trainable params: 77,654\n",
      "Non-trainable params: 0\n",
      "----------------------------------------------------------------\n",
      "Input size (MB): 0.92\n",
      "Forward/backward pass size (MB): 45.55\n",
      "Params size (MB): 0.30\n",
      "Estimated Total Size (MB): 46.76\n",
      "----------------------------------------------------------------\n"
     ]
    }
   ],
   "source": [
    "# Atribui o modelo\n",
    "model = EESPNet_Reg(n_out = 4, s = 0.5)\n",
    "model = model.to(device)\n",
    "# model.load_state_dict(torch.load('../data/FeatModel_tmp.pth',map_location=device), strict=False)\n",
    "summary(model, input_size=(3, 400, 200))"
   ]
  },
  {
   "cell_type": "code",
   "execution_count": 91,
   "metadata": {
    "colab": {},
    "colab_type": "code",
    "id": "GopdjyUHCR2k"
   },
   "outputs": [],
   "source": [
    "learning_rate = 1e-3\n",
    "criterion = torch.nn.MSELoss()\n",
    "optimizer = torch.optim.Adam(list(model.parameters()) + list(modelp.parameters()), learning_rate)\n"
   ]
  },
  {
   "cell_type": "code",
   "execution_count": 92,
   "metadata": {
    "colab": {
     "base_uri": "https://localhost:8080/",
     "height": 746
    },
    "colab_type": "code",
    "executionInfo": {
     "elapsed": 1226,
     "status": "error",
     "timestamp": 1566573425653,
     "user": {
      "displayName": "Matheus Henrique Miquelão Cecilio",
      "photoUrl": "https://lh3.googleusercontent.com/a-/AAuE7mAyYbmI3LX9gbx0Me7LbOE79_iChuXtDQ0mEfa6uA=s64",
      "userId": "15641299195152673709"
     },
     "user_tz": 180
    },
    "id": "Llc74jdn09d1",
    "outputId": "001a2958-92cf-4edc-edee-428fd967c209"
   },
   "outputs": [
    {
     "data": {
      "image/png": "[encoded data removed]",
      "text/plain": [
       "<Figure size 864x576 with 1 Axes>"
      ]
     },
     "metadata": {
      "needs_background": "light"
     },
     "output_type": "display_data"
    },
    {
     "name": "stdout",
     "output_type": "stream",
     "text": [
      "log loss:\n",
      "training   (min:    0.273, max:    1.995, cur:    0.325)\n",
      "validation (min:    0.419, max:    1.631, cur:    0.436)\n",
      "[1:78] loss: 0.325 time:2.89\n"
     ]
    },
    {
     "ename": "KeyboardInterrupt",
     "evalue": "",
     "output_type": "error",
     "traceback": [
      "\u001b[0;31m---------------------------------------------------------------------------\u001b[0m",
      "\u001b[0;31mKeyboardInterrupt\u001b[0m                         Traceback (most recent call last)",
      "\u001b[0;32m<ipython-input-92-dc0016c8c873>\u001b[0m in \u001b[0;36m<module>\u001b[0;34m\u001b[0m\n\u001b[1;32m     37\u001b[0m     \u001b[0mmodel\u001b[0m\u001b[0;34m.\u001b[0m\u001b[0meval\u001b[0m\u001b[0;34m(\u001b[0m\u001b[0;34m)\u001b[0m\u001b[0;34m\u001b[0m\u001b[0;34m\u001b[0m\u001b[0m\n\u001b[1;32m     38\u001b[0m     \u001b[0;32mwith\u001b[0m \u001b[0mtorch\u001b[0m\u001b[0;34m.\u001b[0m\u001b[0mno_grad\u001b[0m\u001b[0;34m(\u001b[0m\u001b[0;34m)\u001b[0m\u001b[0;34m:\u001b[0m\u001b[0;34m\u001b[0m\u001b[0;34m\u001b[0m\u001b[0m\n\u001b[0;32m---> 39\u001b[0;31m         \u001b[0;32mfor\u001b[0m \u001b[0;34m(\u001b[0m\u001b[0mimgs\u001b[0m\u001b[0;34m,\u001b[0m \u001b[0mlabels\u001b[0m\u001b[0;34m)\u001b[0m \u001b[0;32min\u001b[0m \u001b[0mval_loader\u001b[0m\u001b[0;34m:\u001b[0m\u001b[0;34m\u001b[0m\u001b[0;34m\u001b[0m\u001b[0m\n\u001b[0m\u001b[1;32m     40\u001b[0m             \u001b[0mloss\u001b[0m \u001b[0;34m=\u001b[0m \u001b[0;36m0\u001b[0m\u001b[0;34m\u001b[0m\u001b[0;34m\u001b[0m\u001b[0m\n\u001b[1;32m     41\u001b[0m             \u001b[0mfeats\u001b[0m \u001b[0;34m=\u001b[0m \u001b[0;34m[\u001b[0m\u001b[0;34m]\u001b[0m\u001b[0;34m\u001b[0m\u001b[0;34m\u001b[0m\u001b[0m\n",
      "\u001b[0;32m~/.conda/envs/ANN/lib/python3.6/site-packages/torch/utils/data/dataloader.py\u001b[0m in \u001b[0;36m__next__\u001b[0;34m(self)\u001b[0m\n\u001b[1;32m    558\u001b[0m         \u001b[0;32mif\u001b[0m \u001b[0mself\u001b[0m\u001b[0;34m.\u001b[0m\u001b[0mnum_workers\u001b[0m \u001b[0;34m==\u001b[0m \u001b[0;36m0\u001b[0m\u001b[0;34m:\u001b[0m  \u001b[0;31m# same-process loading\u001b[0m\u001b[0;34m\u001b[0m\u001b[0;34m\u001b[0m\u001b[0m\n\u001b[1;32m    559\u001b[0m             \u001b[0mindices\u001b[0m \u001b[0;34m=\u001b[0m \u001b[0mnext\u001b[0m\u001b[0;34m(\u001b[0m\u001b[0mself\u001b[0m\u001b[0;34m.\u001b[0m\u001b[0msample_iter\u001b[0m\u001b[0;34m)\u001b[0m  \u001b[0;31m# may raise StopIteration\u001b[0m\u001b[0;34m\u001b[0m\u001b[0;34m\u001b[0m\u001b[0m\n\u001b[0;32m--> 560\u001b[0;31m             \u001b[0mbatch\u001b[0m \u001b[0;34m=\u001b[0m \u001b[0mself\u001b[0m\u001b[0;34m.\u001b[0m\u001b[0mcollate_fn\u001b[0m\u001b[0;34m(\u001b[0m\u001b[0;34m[\u001b[0m\u001b[0mself\u001b[0m\u001b[0;34m.\u001b[0m\u001b[0mdataset\u001b[0m\u001b[0;34m[\u001b[0m\u001b[0mi\u001b[0m\u001b[0;34m]\u001b[0m \u001b[0;32mfor\u001b[0m \u001b[0mi\u001b[0m \u001b[0;32min\u001b[0m \u001b[0mindices\u001b[0m\u001b[0;34m]\u001b[0m\u001b[0;34m)\u001b[0m\u001b[0;34m\u001b[0m\u001b[0;34m\u001b[0m\u001b[0m\n\u001b[0m\u001b[1;32m    561\u001b[0m             \u001b[0;32mif\u001b[0m \u001b[0mself\u001b[0m\u001b[0;34m.\u001b[0m\u001b[0mpin_memory\u001b[0m\u001b[0;34m:\u001b[0m\u001b[0;34m\u001b[0m\u001b[0;34m\u001b[0m\u001b[0m\n\u001b[1;32m    562\u001b[0m                 \u001b[0mbatch\u001b[0m \u001b[0;34m=\u001b[0m \u001b[0m_utils\u001b[0m\u001b[0;34m.\u001b[0m\u001b[0mpin_memory\u001b[0m\u001b[0;34m.\u001b[0m\u001b[0mpin_memory_batch\u001b[0m\u001b[0;34m(\u001b[0m\u001b[0mbatch\u001b[0m\u001b[0;34m)\u001b[0m\u001b[0;34m\u001b[0m\u001b[0;34m\u001b[0m\u001b[0m\n",
      "\u001b[0;32m~/.conda/envs/ANN/lib/python3.6/site-packages/torch/utils/data/dataloader.py\u001b[0m in \u001b[0;36m<listcomp>\u001b[0;34m(.0)\u001b[0m\n\u001b[1;32m    558\u001b[0m         \u001b[0;32mif\u001b[0m \u001b[0mself\u001b[0m\u001b[0;34m.\u001b[0m\u001b[0mnum_workers\u001b[0m \u001b[0;34m==\u001b[0m \u001b[0;36m0\u001b[0m\u001b[0;34m:\u001b[0m  \u001b[0;31m# same-process loading\u001b[0m\u001b[0;34m\u001b[0m\u001b[0;34m\u001b[0m\u001b[0m\n\u001b[1;32m    559\u001b[0m             \u001b[0mindices\u001b[0m \u001b[0;34m=\u001b[0m \u001b[0mnext\u001b[0m\u001b[0;34m(\u001b[0m\u001b[0mself\u001b[0m\u001b[0;34m.\u001b[0m\u001b[0msample_iter\u001b[0m\u001b[0;34m)\u001b[0m  \u001b[0;31m# may raise StopIteration\u001b[0m\u001b[0;34m\u001b[0m\u001b[0;34m\u001b[0m\u001b[0m\n\u001b[0;32m--> 560\u001b[0;31m             \u001b[0mbatch\u001b[0m \u001b[0;34m=\u001b[0m \u001b[0mself\u001b[0m\u001b[0;34m.\u001b[0m\u001b[0mcollate_fn\u001b[0m\u001b[0;34m(\u001b[0m\u001b[0;34m[\u001b[0m\u001b[0mself\u001b[0m\u001b[0;34m.\u001b[0m\u001b[0mdataset\u001b[0m\u001b[0;34m[\u001b[0m\u001b[0mi\u001b[0m\u001b[0;34m]\u001b[0m \u001b[0;32mfor\u001b[0m \u001b[0mi\u001b[0m \u001b[0;32min\u001b[0m \u001b[0mindices\u001b[0m\u001b[0;34m]\u001b[0m\u001b[0;34m)\u001b[0m\u001b[0;34m\u001b[0m\u001b[0;34m\u001b[0m\u001b[0m\n\u001b[0m\u001b[1;32m    561\u001b[0m             \u001b[0;32mif\u001b[0m \u001b[0mself\u001b[0m\u001b[0;34m.\u001b[0m\u001b[0mpin_memory\u001b[0m\u001b[0;34m:\u001b[0m\u001b[0;34m\u001b[0m\u001b[0;34m\u001b[0m\u001b[0m\n\u001b[1;32m    562\u001b[0m                 \u001b[0mbatch\u001b[0m \u001b[0;34m=\u001b[0m \u001b[0m_utils\u001b[0m\u001b[0;34m.\u001b[0m\u001b[0mpin_memory\u001b[0m\u001b[0;34m.\u001b[0m\u001b[0mpin_memory_batch\u001b[0m\u001b[0;34m(\u001b[0m\u001b[0mbatch\u001b[0m\u001b[0;34m)\u001b[0m\u001b[0;34m\u001b[0m\u001b[0;34m\u001b[0m\u001b[0m\n",
      "\u001b[0;32m<ipython-input-5-b5ed8a180ac4>\u001b[0m in \u001b[0;36m__getitem__\u001b[0;34m(self, idx)\u001b[0m\n\u001b[1;32m     45\u001b[0m         '''\n\u001b[1;32m     46\u001b[0m         \u001b[0mimg_list\u001b[0m\u001b[0;34m,\u001b[0m \u001b[0mlabel\u001b[0m \u001b[0;34m=\u001b[0m \u001b[0mself\u001b[0m\u001b[0;34m.\u001b[0m\u001b[0mdata\u001b[0m\u001b[0;34m[\u001b[0m\u001b[0midx\u001b[0m\u001b[0;34m]\u001b[0m\u001b[0;34m\u001b[0m\u001b[0;34m\u001b[0m\u001b[0m\n\u001b[0;32m---> 47\u001b[0;31m         \u001b[0mimages\u001b[0m \u001b[0;34m=\u001b[0m \u001b[0;34m[\u001b[0m\u001b[0mVariable\u001b[0m\u001b[0;34m(\u001b[0m\u001b[0mi\u001b[0m\u001b[0;34m)\u001b[0m\u001b[0;34m.\u001b[0m\u001b[0mto\u001b[0m\u001b[0;34m(\u001b[0m\u001b[0mdevice\u001b[0m\u001b[0;34m,\u001b[0m \u001b[0mdtype\u001b[0m\u001b[0;34m=\u001b[0m\u001b[0mtorch\u001b[0m\u001b[0;34m.\u001b[0m\u001b[0mfloat\u001b[0m\u001b[0;34m)\u001b[0m \u001b[0;32mfor\u001b[0m \u001b[0mi\u001b[0m \u001b[0;32min\u001b[0m \u001b[0mimg_list\u001b[0m\u001b[0;34m]\u001b[0m\u001b[0;34m\u001b[0m\u001b[0;34m\u001b[0m\u001b[0m\n\u001b[0m\u001b[1;32m     48\u001b[0m         \u001b[0mlabel\u001b[0m \u001b[0;34m=\u001b[0m \u001b[0mVariable\u001b[0m\u001b[0;34m(\u001b[0m\u001b[0mlabel\u001b[0m\u001b[0;34m)\u001b[0m\u001b[0;34m.\u001b[0m\u001b[0mto\u001b[0m\u001b[0;34m(\u001b[0m\u001b[0mdevice\u001b[0m\u001b[0;34m,\u001b[0m \u001b[0mdtype\u001b[0m\u001b[0;34m=\u001b[0m\u001b[0mtorch\u001b[0m\u001b[0;34m.\u001b[0m\u001b[0mfloat\u001b[0m\u001b[0;34m)\u001b[0m\u001b[0;34m\u001b[0m\u001b[0;34m\u001b[0m\u001b[0m\n\u001b[1;32m     49\u001b[0m \u001b[0;34m\u001b[0m\u001b[0m\n",
      "\u001b[0;32m<ipython-input-5-b5ed8a180ac4>\u001b[0m in \u001b[0;36m<listcomp>\u001b[0;34m(.0)\u001b[0m\n\u001b[1;32m     45\u001b[0m         '''\n\u001b[1;32m     46\u001b[0m         \u001b[0mimg_list\u001b[0m\u001b[0;34m,\u001b[0m \u001b[0mlabel\u001b[0m \u001b[0;34m=\u001b[0m \u001b[0mself\u001b[0m\u001b[0;34m.\u001b[0m\u001b[0mdata\u001b[0m\u001b[0;34m[\u001b[0m\u001b[0midx\u001b[0m\u001b[0;34m]\u001b[0m\u001b[0;34m\u001b[0m\u001b[0;34m\u001b[0m\u001b[0m\n\u001b[0;32m---> 47\u001b[0;31m         \u001b[0mimages\u001b[0m \u001b[0;34m=\u001b[0m \u001b[0;34m[\u001b[0m\u001b[0mVariable\u001b[0m\u001b[0;34m(\u001b[0m\u001b[0mi\u001b[0m\u001b[0;34m)\u001b[0m\u001b[0;34m.\u001b[0m\u001b[0mto\u001b[0m\u001b[0;34m(\u001b[0m\u001b[0mdevice\u001b[0m\u001b[0;34m,\u001b[0m \u001b[0mdtype\u001b[0m\u001b[0;34m=\u001b[0m\u001b[0mtorch\u001b[0m\u001b[0;34m.\u001b[0m\u001b[0mfloat\u001b[0m\u001b[0;34m)\u001b[0m \u001b[0;32mfor\u001b[0m \u001b[0mi\u001b[0m \u001b[0;32min\u001b[0m \u001b[0mimg_list\u001b[0m\u001b[0;34m]\u001b[0m\u001b[0;34m\u001b[0m\u001b[0;34m\u001b[0m\u001b[0m\n\u001b[0m\u001b[1;32m     48\u001b[0m         \u001b[0mlabel\u001b[0m \u001b[0;34m=\u001b[0m \u001b[0mVariable\u001b[0m\u001b[0;34m(\u001b[0m\u001b[0mlabel\u001b[0m\u001b[0;34m)\u001b[0m\u001b[0;34m.\u001b[0m\u001b[0mto\u001b[0m\u001b[0;34m(\u001b[0m\u001b[0mdevice\u001b[0m\u001b[0;34m,\u001b[0m \u001b[0mdtype\u001b[0m\u001b[0;34m=\u001b[0m\u001b[0mtorch\u001b[0m\u001b[0;34m.\u001b[0m\u001b[0mfloat\u001b[0m\u001b[0;34m)\u001b[0m\u001b[0;34m\u001b[0m\u001b[0;34m\u001b[0m\u001b[0m\n\u001b[1;32m     49\u001b[0m \u001b[0;34m\u001b[0m\u001b[0m\n",
      "\u001b[0;31mKeyboardInterrupt\u001b[0m: "
     ]
    }
   ],
   "source": [
    "min_loss = 1e9\n",
    "bad_epochs = 0\n",
    "\n",
    "liveloss = PlotLosses()\n",
    "for epoch in range(100):\n",
    "    bad_epochs += 1\n",
    "    start_time = time.time()\n",
    "    epoch_loss = []\n",
    "    val_loss = []\n",
    "    \n",
    "    model.train()\n",
    "    for (imgs, labels) in train_loader:\n",
    "        \n",
    "        #-------------------------------------------\n",
    "        # Obtem o output\n",
    "        loss = 0\n",
    "        feats = []\n",
    "        for img in imgs:\n",
    "            pred, feat = model(img)\n",
    "            loss += criterion(pred, labels)\n",
    "            feats.append(feat)\n",
    "        r = torch.randperm(len(feats))\n",
    "        predf = modelp(torch.cat([feats[i] for i in r], 1))\n",
    "        loss += criterion(predf, labels)\n",
    "        \n",
    "        # Limpa os gradientes\n",
    "        optimizer.zero_grad()\n",
    "\n",
    "        # Obtem os gradientes\n",
    "        loss.backward()\n",
    "\n",
    "        # Atualiza os parâmetros\n",
    "        optimizer.step()\n",
    "\n",
    "        epoch_loss.append(loss.data.item())\n",
    "    \n",
    "    model.eval()\n",
    "    with torch.no_grad():\n",
    "        for (imgs, labels) in val_loader:\n",
    "            loss = 0\n",
    "            feats = []\n",
    "            for img in imgs:\n",
    "                pred, feat = model(img)\n",
    "                loss += criterion(pred, labels)\n",
    "                feats.append(feat)\n",
    "            predf = modelp(torch.cat(feats, 1))\n",
    "            loss += criterion(predf, labels)\n",
    "            val_loss.append(loss.data.item())\n",
    "        \n",
    "    epoch_loss = np.array(epoch_loss).mean()\n",
    "    val_loss = np.array(val_loss).mean()\n",
    "    time_taken = time.time() - start_time\n",
    "    \n",
    "    #save the model\n",
    "    model_file_name = '../data/FeatModel_tmp.pth'\n",
    "    modelp_file_name = '../data/PredModel_tmp.pth'\n",
    "    if val_loss < min_loss:\n",
    "        torch.save(model.state_dict(), model_file_name)\n",
    "        torch.save(modelp.state_dict(), modelp_file_name)\n",
    "        min_loss = val_loss\n",
    "        bad_epochs = 0\n",
    "    if bad_epochs > 100:\n",
    "        break\n",
    "\n",
    "    liveloss.update({\n",
    "        'log loss': epoch_loss,\n",
    "        'val_log loss': val_loss\n",
    "    })\n",
    "    liveloss.draw()\n",
    "    print('[%d:%d] loss: %.3f time:%.2f' % (bad_epochs, epoch, epoch_loss, time_taken))\n",
    "    "
   ]
  },
  {
   "cell_type": "code",
   "execution_count": 93,
   "metadata": {
    "colab": {
     "base_uri": "https://localhost:8080/",
     "height": 34
    },
    "colab_type": "code",
    "executionInfo": {
     "elapsed": 406,
     "status": "ok",
     "timestamp": 1566573462906,
     "user": {
      "displayName": "Matheus Henrique Miquelão Cecilio",
      "photoUrl": "https://lh3.googleusercontent.com/a-/AAuE7mAyYbmI3LX9gbx0Me7LbOE79_iChuXtDQ0mEfa6uA=s64",
      "userId": "15641299195152673709"
     },
     "user_tz": 180
    },
    "id": "EQYj41zgCR2r",
    "outputId": "aff25889-1b1b-4779-c6a4-b72438742d2d"
   },
   "outputs": [
    {
     "name": "stdout",
     "output_type": "stream",
     "text": [
      "Modelo OK\n"
     ]
    }
   ],
   "source": [
    "# Carrega os pesos de um modelo salvo\n",
    "model.load_state_dict(torch.load(model_file_name,map_location=device))\n",
    "modelp.load_state_dict(torch.load(modelp_file_name,map_location=device))\n",
    "\n",
    "print('Modelo OK')"
   ]
  },
  {
   "cell_type": "code",
   "execution_count": 94,
   "metadata": {
    "colab": {
     "base_uri": "https://localhost:8080/",
     "height": 34
    },
    "colab_type": "code",
    "executionInfo": {
     "elapsed": 1053,
     "status": "ok",
     "timestamp": 1566573473320,
     "user": {
      "displayName": "Matheus Henrique Miquelão Cecilio",
      "photoUrl": "https://lh3.googleusercontent.com/a-/AAuE7mAyYbmI3LX9gbx0Me7LbOE79_iChuXtDQ0mEfa6uA=s64",
      "userId": "15641299195152673709"
     },
     "user_tz": 180
    },
    "id": "xPgmDWucJvNp",
    "outputId": "e4b0ea98-8caa-4166-c385-dae2813a603b"
   },
   "outputs": [
    {
     "name": "stdout",
     "output_type": "stream",
     "text": [
      "time:0.20\n"
     ]
    }
   ],
   "source": [
    "start_time = time.time()\n",
    "\n",
    "model.eval()\n",
    "\n",
    "obs = []\n",
    "preds = []\n",
    "\n",
    "obsf = []\n",
    "predsf = []\n",
    "for i, (imgs, labels) in enumerate(val_loader):\n",
    "    feats = []\n",
    "    for img in imgs:\n",
    "        with torch.no_grad():\n",
    "            pred, feat = model(img)\n",
    "            feats.append(feat)\n",
    "        preds.append(pred.cpu().data.numpy())\n",
    "        obs.append(labels.cpu().data.numpy())\n",
    "\n",
    "    predf = modelp(torch.cat(feats, 1))\n",
    "    predsf.append(pred.cpu().data.numpy())\n",
    "    obsf.append(labels.cpu().data.numpy())\n",
    "\n",
    "y_obs = np.concatenate(obs)\n",
    "y_pred = np.concatenate(preds)\n",
    "y_obs = (y_obs+minimo)*(maximo-minimo)\n",
    "y_pred = (y_pred+minimo)*(maximo-minimo)\n",
    "\n",
    "y_obsf = np.concatenate(obsf)\n",
    "y_predf = np.concatenate(predsf)\n",
    "y_obsf = (y_obsf+minimo)*(maximo-minimo)\n",
    "y_predf = (y_predf+minimo)*(maximo-minimo)\n",
    "\n",
    "\n",
    "time_taken = time.time() - start_time\n",
    "print('time:%.2f' % (time_taken))\n"
   ]
  },
  {
   "cell_type": "code",
   "execution_count": 99,
   "metadata": {
    "colab": {
     "base_uri": "https://localhost:8080/",
     "height": 283
    },
    "colab_type": "code",
    "executionInfo": {
     "elapsed": 707,
     "status": "ok",
     "timestamp": 1566573481490,
     "user": {
      "displayName": "Matheus Henrique Miquelão Cecilio",
      "photoUrl": "https://lh3.googleusercontent.com/a-/AAuE7mAyYbmI3LX9gbx0Me7LbOE79_iChuXtDQ0mEfa6uA=s64",
      "userId": "15641299195152673709"
     },
     "user_tz": 180
    },
    "id": "NOeijbOXCR2v",
    "outputId": "2908ce10-f286-4419-f342-05d656c2c847"
   },
   "outputs": [
    {
     "data": {
      "image/png": "[encoded data removed]",
      "text/plain": [
       "<Figure size 432x288 with 1 Axes>"
      ]
     },
     "metadata": {
      "needs_background": "light"
     },
     "output_type": "display_data"
    }
   ],
   "source": [
    "idx = 0\n",
    "ax = plt.axes()\n",
    "ax.set_aspect('equal', 'datalim')\n",
    "plt.plot(y_pred[:,idx], y_obs[:,idx], 'go', alpha = .5)\n",
    "plt.plot(y_predf[:,idx], y_obsf[:,idx], 'bo', alpha = 1.)\n",
    "plt.xlabel('Predicted')\n",
    "plt.ylabel('Observed')\n",
    "plt.show()\n"
   ]
  },
  {
   "cell_type": "code",
   "execution_count": 100,
   "metadata": {
    "colab": {
     "base_uri": "https://localhost:8080/",
     "height": 34
    },
    "colab_type": "code",
    "executionInfo": {
     "elapsed": 559,
     "status": "ok",
     "timestamp": 1566573484321,
     "user": {
      "displayName": "Matheus Henrique Miquelão Cecilio",
      "photoUrl": "https://lh3.googleusercontent.com/a-/AAuE7mAyYbmI3LX9gbx0Me7LbOE79_iChuXtDQ0mEfa6uA=s64",
      "userId": "15641299195152673709"
     },
     "user_tz": 180
    },
    "id": "7YAflCD2CR2x",
    "outputId": "57bb585a-2c47-4b00-a73c-29a781c3320c"
   },
   "outputs": [
    {
     "data": {
      "text/plain": [
       "array([[ 1.  , -0.5 , -0.52,  0.73,  0.49, -0.2 , -0.23,  0.39],\n",
       "       [-0.5 ,  1.  ,  1.  , -0.04, -0.24,  0.52,  0.6 , -0.  ],\n",
       "       [-0.52,  1.  ,  1.  , -0.08, -0.25,  0.52,  0.59, -0.01],\n",
       "       [ 0.73, -0.04, -0.08,  1.  ,  0.22, -0.03, -0.02,  0.39],\n",
       "       [ 0.49, -0.24, -0.25,  0.22,  1.  , -0.35, -0.24,  0.22],\n",
       "       [-0.2 ,  0.52,  0.52, -0.03, -0.35,  1.  ,  0.94,  0.04],\n",
       "       [-0.23,  0.6 ,  0.59, -0.02, -0.24,  0.94,  1.  ,  0.16],\n",
       "       [ 0.39, -0.  , -0.01,  0.39,  0.22,  0.04,  0.16,  1.  ]])"
      ]
     },
     "execution_count": 100,
     "metadata": {},
     "output_type": "execute_result"
    }
   ],
   "source": [
    "np.round(np.corrcoef(y_pred, y_obs, rowvar=False),2)"
   ]
  },
  {
   "cell_type": "code",
   "execution_count": 101,
   "metadata": {
    "colab": {
     "base_uri": "https://localhost:8080/",
     "height": 134
    },
    "colab_type": "code",
    "executionInfo": {
     "elapsed": 483,
     "status": "ok",
     "timestamp": 1566573490139,
     "user": {
      "displayName": "Matheus Henrique Miquelão Cecilio",
      "photoUrl": "https://lh3.googleusercontent.com/a-/AAuE7mAyYbmI3LX9gbx0Me7LbOE79_iChuXtDQ0mEfa6uA=s64",
      "userId": "15641299195152673709"
     },
     "user_tz": 180
    },
    "id": "mG0C381NCR2z",
    "outputId": "2564c383-4d85-4b77-fa99-baa3b1ea2f20"
   },
   "outputs": [
    {
     "name": "stdout",
     "output_type": "stream",
     "text": [
      "[[38.00000012  0.          0.          1.00000003]\n",
      " [36.00000001  5.          7.          2.00000006]\n",
      " [36.00000001  1.00000001  1.00000004  2.00000006]\n",
      " [37.00000003  0.          0.          2.00000006]\n",
      " [37.00000003  0.          0.          2.00000006]\n",
      " [35.          0.          0.          1.00000003]\n",
      " [37.00000003  0.          0.          2.00000006]\n",
      " [37.00000003  0.          0.          2.00000006]\n",
      " [37.00000003  2.00000003  5.00000012  2.00000006]\n",
      " [36.00000001  3.00000012  3.00000003  1.00000003]]\n"
     ]
    }
   ],
   "source": [
    "print(y_obsf)"
   ]
  },
  {
   "cell_type": "code",
   "execution_count": 102,
   "metadata": {
    "colab": {
     "base_uri": "https://localhost:8080/",
     "height": 353
    },
    "colab_type": "code",
    "executionInfo": {
     "elapsed": 693,
     "status": "ok",
     "timestamp": 1566573491525,
     "user": {
      "displayName": "Matheus Henrique Miquelão Cecilio",
      "photoUrl": "https://lh3.googleusercontent.com/a-/AAuE7mAyYbmI3LX9gbx0Me7LbOE79_iChuXtDQ0mEfa6uA=s64",
      "userId": "15641299195152673709"
     },
     "user_tz": 180
    },
    "id": "uiIrkT0c2Vwn",
    "outputId": "81e2d80a-e8b8-43db-e9e9-8092fa74e150"
   },
   "outputs": [
    {
     "name": "stdout",
     "output_type": "stream",
     "text": [
      "[[ 3.70817886e+01  2.32920423e-01  1.57031989e-01  1.72750676e+00]\n",
      " [ 3.70010634e+01  3.60856839e-01  4.27197538e-01  1.52044630e+00]\n",
      " [ 3.71157791e+01  1.03716202e+00  1.85232607e+00  1.77419132e+00]\n",
      " [ 3.71561711e+01  3.58695872e-01  4.79435101e-01  1.67154819e+00]\n",
      " [ 3.73213322e+01  1.43328030e-01  2.96446700e-02  1.41454321e+00]\n",
      " [ 3.65797788e+01  1.42433107e+00  2.71285331e+00  1.81518584e+00]\n",
      " [ 3.66316167e+01  1.45389006e+00  2.89316911e+00  1.26833868e+00]\n",
      " [ 3.73859283e+01 -5.39817894e-02 -4.61500101e-01  1.88838083e+00]\n",
      " [ 3.66572452e+01  3.03147554e+00  6.21366858e+00  1.92563528e+00]\n",
      " [ 3.64065614e+01  9.95196626e-01  1.83370873e+00  1.13165510e+00]]\n"
     ]
    }
   ],
   "source": [
    "print(y_predf)"
   ]
  },
  {
   "cell_type": "code",
   "execution_count": null,
   "metadata": {},
   "outputs": [],
   "source": []
  }
 ],
 "metadata": {
  "accelerator": "GPU",
  "colab": {
   "collapsed_sections": [],
   "name": "Train_Model_3D_Planta_MaisParmatros.ipynb",
   "provenance": [],
   "version": "0.3.2"
  },
  "kernelspec": {
   "display_name": "Python 3",
   "language": "python",
   "name": "python3"
  },
  "language_info": {
   "codemirror_mode": {
    "name": "ipython",
    "version": 3
   },
   "file_extension": ".py",
   "mimetype": "text/x-python",
   "name": "python",
   "nbconvert_exporter": "python",
   "pygments_lexer": "ipython3",
   "version": "3.6.7"
  }
 },
 "nbformat": 4,
 "nbformat_minor": 1
}
