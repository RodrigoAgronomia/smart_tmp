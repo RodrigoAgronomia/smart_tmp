{
 "cells": [
  {
   "cell_type": "code",
   "execution_count": 1,
   "metadata": {
    "colab": {
     "base_uri": "https://localhost:8080/",
     "height": 34
    },
    "colab_type": "code",
    "executionInfo": {
     "elapsed": 1246,
     "status": "ok",
     "timestamp": 1566573296125,
     "user": {
      "displayName": "Matheus Henrique Miquelão Cecilio",
      "photoUrl": "https://lh3.googleusercontent.com/a-/AAuE7mAyYbmI3LX9gbx0Me7LbOE79_iChuXtDQ0mEfa6uA=s64",
      "userId": "15641299195152673709"
     },
     "user_tz": 180
    },
    "id": "cmBxRG-DCR1_",
    "outputId": "5f8efdc8-4532-4275-b541-3c6cc3287d8d"
   },
   "outputs": [
    {
     "name": "stdout",
     "output_type": "stream",
     "text": [
      "cuda\n"
     ]
    }
   ],
   "source": [
    "import os\n",
    "import cv2\n",
    "import time\n",
    "import pandas as pd\n",
    "import numpy as np\n",
    "import torch\n",
    "import torch.nn as nn\n",
    "import torch.nn.functional as F\n",
    "import matplotlib.pyplot as plt\n",
    "from torch.autograd import Variable\n",
    "from livelossplot import PlotLosses\n",
    "\n",
    "device = 'cuda' if torch.cuda.is_available() else 'cpu'\n",
    "print(device)"
   ]
  },
  {
   "cell_type": "code",
   "execution_count": 2,
   "metadata": {},
   "outputs": [],
   "source": [
    "from cnn.Model import EESPNet_Reg"
   ]
  },
  {
   "cell_type": "code",
   "execution_count": 3,
   "metadata": {
    "colab": {},
    "colab_type": "code",
    "id": "OTmXBhcMCR2G"
   },
   "outputs": [],
   "source": [
    "class PredModel(torch.nn.Module):\n",
    "    def __init__(self, pred_dim, n_out):\n",
    "        super(PredModel, self).__init__()\n",
    "        \n",
    "        # Prediciton layers\n",
    "        self.cnn_layers = []\n",
    "        for i in range(len(pred_dim) - 1):\n",
    "            cnn_layer = nn.Sequential(\n",
    "                nn.Conv1d(pred_dim[i][0], pred_dim[i + 1][0], 3),\n",
    "                nn.LeakyReLU(),\n",
    "                nn.Dropout(pred_dim[i + 1][1])\n",
    "            )\n",
    "            self.cnn_layers.append(cnn_layer)\n",
    "        self.cnn_layers.append(nn.AdaptiveMaxPool1d(1))\n",
    "        self.cnn_layers = nn.Sequential(*self.cnn_layers)\n",
    "        self.pred_layer = nn.Linear(pred_dim[-1][0], n_out)\n",
    "        \n",
    "\n",
    "    def forward(self, feats):\n",
    "        pred = self.cnn_layers(feats)\n",
    "        pred = pred.view(pred.shape[0], -1)\n",
    "        pred = self.pred_layer(pred)\n",
    "        return(pred)\n"
   ]
  },
  {
   "cell_type": "code",
   "execution_count": 17,
   "metadata": {},
   "outputs": [],
   "source": [
    "class GradientAscent:\n",
    "\n",
    "    def __init__(self, model, lr=1):\n",
    "        self.model = model\n",
    "        self.lr = lr\n",
    "\n",
    "        self.num_layers = len(list(self.model.named_children()))\n",
    "        self.activation = None\n",
    "\n",
    "        self.handlers = []\n",
    "        self.output = None\n",
    "    \n",
    "    def optimize(self, x, idx, num_iter=30):\n",
    "\n",
    "        img_var = Variable(x, requires_grad=True)  # convert image to Variable that requires grad\n",
    "        optimizer = torch.optim.Adam([img_var], lr=self.lr)\n",
    "        liveloss = PlotLosses()\n",
    "\n",
    "        for n in range(num_iter):  # optimize pixel values for opt_steps times\n",
    "            \n",
    "            pred = self.model(img_var)\n",
    "            optimizer.zero_grad()\n",
    "            loss = - pred[0][0][idx]\n",
    "            loss.backward()\n",
    "            optimizer.step()\n",
    "            \n",
    "            \n",
    "            liveloss.update({'loss': loss.data.item()})\n",
    "            liveloss.draw()\n",
    "\n",
    "            \n",
    "        return(img_var)\n",
    "    \n",
    "    "
   ]
  },
  {
   "cell_type": "code",
   "execution_count": 18,
   "metadata": {
    "colab": {
     "base_uri": "https://localhost:8080/",
     "height": 554
    },
    "colab_type": "code",
    "executionInfo": {
     "elapsed": 412,
     "status": "ok",
     "timestamp": 1566573369239,
     "user": {
      "displayName": "Matheus Henrique Miquelão Cecilio",
      "photoUrl": "https://lh3.googleusercontent.com/a-/AAuE7mAyYbmI3LX9gbx0Me7LbOE79_iChuXtDQ0mEfa6uA=s64",
      "userId": "15641299195152673709"
     },
     "user_tz": 180
    },
    "id": "3nCOfgH_CR2d",
    "outputId": "482526ec-29bb-46c4-b8c1-59d0f195e439"
   },
   "outputs": [
    {
     "data": {
      "text/plain": [
       "IncompatibleKeys(missing_keys=[], unexpected_keys=[])"
      ]
     },
     "execution_count": 18,
     "metadata": {},
     "output_type": "execute_result"
    }
   ],
   "source": [
    "fct_dim = [16, 8, 4]\n",
    "fct_dropout = 0.1\n",
    "fct_dim = [[x, fct_dropout] for x in fct_dim]\n",
    "\n",
    "n_out = 5\n",
    "# Atribui o modelo\n",
    "modelp = PredModel(fct_dim, n_out)\n",
    "modelp = modelp.to(device)\n",
    "modelp.load_state_dict(torch.load('../data/PredModel_tmp.pth',map_location=device), strict=False)\n"
   ]
  },
  {
   "cell_type": "code",
   "execution_count": 19,
   "metadata": {
    "colab": {
     "base_uri": "https://localhost:8080/",
     "height": 622
    },
    "colab_type": "code",
    "executionInfo": {
     "elapsed": 4821,
     "status": "ok",
     "timestamp": 1566573367643,
     "user": {
      "displayName": "Matheus Henrique Miquelão Cecilio",
      "photoUrl": "https://lh3.googleusercontent.com/a-/AAuE7mAyYbmI3LX9gbx0Me7LbOE79_iChuXtDQ0mEfa6uA=s64",
      "userId": "15641299195152673709"
     },
     "user_tz": 180
    },
    "id": "EFuHJYve5W_S",
    "outputId": "01f90165-01ed-4e65-9fd1-f51e4a42a90f"
   },
   "outputs": [
    {
     "data": {
      "text/plain": [
       "IncompatibleKeys(missing_keys=[], unexpected_keys=[])"
      ]
     },
     "execution_count": 19,
     "metadata": {},
     "output_type": "execute_result"
    }
   ],
   "source": [
    "# Atribui o modelo\n",
    "model = EESPNet_Reg(n_out = 5, s = 0.5)\n",
    "model = model.to(device)\n",
    "model.load_state_dict(torch.load('../data/FeatModel_tmp.pth' ,map_location=device), strict=False)\n"
   ]
  },
  {
   "cell_type": "code",
   "execution_count": 43,
   "metadata": {},
   "outputs": [
    {
     "data": {
      "image/png": "[encoded data removed]",
      "text/plain": [
       "<Figure size 864x576 with 1 Axes>"
      ]
     },
     "metadata": {
      "needs_background": "light"
     },
     "output_type": "display_data"
    },
    {
     "name": "stdout",
     "output_type": "stream",
     "text": [
      "loss:\n",
      "training   (min:   -1.086, max:   -0.654, cur:   -1.021)\n"
     ]
    }
   ],
   "source": [
    "idx = 2\n",
    "tst_input = torch.randn((1, 3, 40, 80)).cuda()\n",
    "\n",
    "grad = GradientAscent(model, lr = 1)\n",
    "output = grad.optimize(tst_input, idx,  100)\n"
   ]
  },
  {
   "cell_type": "code",
   "execution_count": 44,
   "metadata": {},
   "outputs": [
    {
     "data": {
      "text/plain": [
       "tensor(0.9828, device='cuda:0', grad_fn=<SelectBackward>)"
      ]
     },
     "execution_count": 44,
     "metadata": {},
     "output_type": "execute_result"
    }
   ],
   "source": [
    "model(output)[0][0][idx]"
   ]
  },
  {
   "cell_type": "code",
   "execution_count": 45,
   "metadata": {},
   "outputs": [],
   "source": [
    "imgout = output[0].cpu().data.numpy()\n"
   ]
  },
  {
   "cell_type": "code",
   "execution_count": 46,
   "metadata": {},
   "outputs": [
    {
     "name": "stderr",
     "output_type": "stream",
     "text": [
      "Clipping input data to the valid range for imshow with RGB data ([0..1] for floats or [0..255] for integers).\n"
     ]
    },
    {
     "data": {
      "text/plain": [
       "<matplotlib.image.AxesImage at 0x7f9ce4856390>"
      ]
     },
     "execution_count": 46,
     "metadata": {},
     "output_type": "execute_result"
    },
    {
     "data": {
      "image/png": "[encoded data removed]",
      "text/plain": [
       "<Figure size 432x288 with 1 Axes>"
      ]
     },
     "metadata": {
      "needs_background": "light"
     },
     "output_type": "display_data"
    }
   ],
   "source": [
    "plt.imshow(np.moveaxis(imgout, 0, 2))"
   ]
  },
  {
   "cell_type": "code",
   "execution_count": null,
   "metadata": {},
   "outputs": [],
   "source": []
  }
 ],
 "metadata": {
  "accelerator": "GPU",
  "colab": {
   "collapsed_sections": [],
   "name": "Train_Model_3D_Planta_MaisParmatros.ipynb",
   "provenance": [],
   "version": "0.3.2"
  },
  "kernelspec": {
   "display_name": "Python 3",
   "language": "python",
   "name": "python3"
  },
  "language_info": {
   "codemirror_mode": {
    "name": "ipython",
    "version": 3
   },
   "file_extension": ".py",
   "mimetype": "text/x-python",
   "name": "python",
   "nbconvert_exporter": "python",
   "pygments_lexer": "ipython3",
   "version": "3.6.7"
  }
 },
 "nbformat": 4,
 "nbformat_minor": 1
}
