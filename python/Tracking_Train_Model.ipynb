{
 "cells": [
  {
   "cell_type": "code",
   "execution_count": 1,
   "metadata": {
    "colab": {
     "base_uri": "https://localhost:8080/",
     "height": 34
    },
    "colab_type": "code",
    "id": "9hNrmqRpzyJo",
    "outputId": "666b6479-6424-4020-9902-0a78be1afc50"
   },
   "outputs": [
    {
     "name": "stdout",
     "output_type": "stream",
     "text": [
      "cuda\n"
     ]
    }
   ],
   "source": [
    "import os\n",
    "import cv2\n",
    "import time\n",
    "import pandas as pd\n",
    "import numpy as np\n",
    "import torch\n",
    "import torch.nn as nn\n",
    "import torch.nn.functional as F\n",
    "import torchvision\n",
    "import torchvision.transforms as TT\n",
    "import matplotlib.pyplot as plt\n",
    "from cnn import SegmentationModel as net\n",
    "from torch.autograd import Variable\n",
    "from livelossplot import PlotLosses\n",
    "from torch.utils.data import Dataset, DataLoader\n",
    "\n",
    "device = 'cuda' if torch.cuda.is_available() else 'cpu'\n",
    "print(device)"
   ]
  },
  {
   "cell_type": "code",
   "execution_count": 2,
   "metadata": {
    "colab": {},
    "colab_type": "code",
    "id": "k0OZiilIzyJu"
   },
   "outputs": [],
   "source": [
    "class MyDataset(torch.utils.data.Dataset):\n",
    "    '''\n",
    "    Class to load the dataset\n",
    "    '''\n",
    "    def __init__(self, im_dir, im_list, lbl_list, transform = None, img_transform=None):\n",
    "        '''\n",
    "        :param imList: image list (Note that these lists have been processed and pickled using the loadData.py)\n",
    "        :param labelList: label list (Note that these lists have been processed and pickled using the loadData.py)\n",
    "        '''          \n",
    "        self.im_dir = im_dir\n",
    "        self.im_list = im_list\n",
    "        self.lbl_list = lbl_list      \n",
    "        self.transform = transform\n",
    "        self.img_transform = img_transform\n",
    "        \n",
    "\n",
    "    def __len__(self):\n",
    "        return len(self.im_list)\n",
    "\n",
    "    def __transform__(self, x):\n",
    "        x = x.copy()\n",
    "        x = np.moveaxis(x, 2, 0)\n",
    "        x = x.astype('float')\n",
    "        x -= 128\n",
    "        x /= 35\n",
    "        return(x)\n",
    "\n",
    "    def __back_transform__(self, x):\n",
    "        x = x.copy()\n",
    "        x *= 35\n",
    "        x += 128\n",
    "        x[x<0] = 0\n",
    "        x[x>255] = 255\n",
    "        x = x.astype('uint8')\n",
    "        x = np.moveaxis(x, 0, 2)\n",
    "        return(x)\n",
    "      \n",
    "    def __getitem__(self, idx):\n",
    "        '''\n",
    "\n",
    "        :param idx: Index of the image file\n",
    "        :return: returns the image and corresponding label file.\n",
    "        '''\n",
    "        image_name = self.im_list[idx]\n",
    "        label_name = self.lbl_list[idx]\n",
    "        \n",
    "        image = cv2.imread(os.path.join(self.im_dir, image_name), cv2.IMREAD_COLOR)\n",
    "        label = cv2.imread(os.path.join(self.im_dir, label_name), cv2.IMREAD_GRAYSCALE)\n",
    "        \n",
    "        if self.transform:\n",
    "            image, label = self.transform(image, label)\n",
    "        \n",
    "        if self.img_transform:\n",
    "            image = self.img_transform(image)\n",
    "            image = (image - 0.5) * (255/35)\n",
    "        else:\n",
    "            image = self.__transform__(image)\n",
    "            image = torch.from_numpy(image)\n",
    "        \n",
    "        label = torch.from_numpy(label)\n",
    "        image = Variable(image).to(device, dtype=torch.float)\n",
    "        label = Variable(label).to(device, dtype=torch.long)\n",
    "        \n",
    "        return (image, label)"
   ]
  },
  {
   "cell_type": "code",
   "execution_count": 3,
   "metadata": {
    "colab": {},
    "colab_type": "code",
    "id": "XaI_HiykBCfK"
   },
   "outputs": [],
   "source": [
    "class Scale(object):\n",
    "    def __init__(self, h, w):\n",
    "        self.h = h\n",
    "        self.w = w\n",
    "        \n",
    "    def __call__(self, img, label):\n",
    "        # nearest neighbour interpolation\n",
    "        img = cv2.resize(img, (self.w, self.h), interpolation=cv2.INTER_NEAREST)\n",
    "        label = cv2.resize(label, (self.w, self.h), interpolation=cv2.INTER_NEAREST)\n",
    "\n",
    "        return [img, label]\n",
    "\n",
    "class Crop(object):\n",
    "    def __init__(self, h, w):\n",
    "        self.y = h\n",
    "        self.x = w\n",
    "        \n",
    "    def __call__(self, img, label):\n",
    "        h, w = img.shape[:2]\n",
    "        x1 = np.random.randint(0, w - self.x)\n",
    "        y1 = np.random.randint(0, h - self.y)\n",
    "        img_crop = img[y1:y1+self.y, x1:x1+self.x]\n",
    "        label_crop = label[y1:y1+self.y, x1:x1+self.x]\n",
    "\n",
    "        return img_crop, label_crop\n",
    "\n",
    "class RandomCropResize(object):\n",
    "    def __init__(self, crop_area):\n",
    "        self.cw = crop_area\n",
    "        self.ch = crop_area\n",
    "\n",
    "    def __call__(self, img, label):\n",
    "        if np.random.random() < 0.5:\n",
    "            h, w = img.shape[:2]\n",
    "            x1 = np.random.randint(0, np.min([self.cw, int(w/2)]))\n",
    "            y1 = np.random.randint(0, np.min([self.ch, int(h/2)]))\n",
    "            \n",
    "            img_crop = img[y1:h-y1, x1:w-x1]\n",
    "            label_crop = label[y1:h-y1, x1:w-x1]\n",
    "\n",
    "            img_crop = cv2.resize(img_crop, (w, h), interpolation=cv2.INTER_NEAREST)\n",
    "            label_crop = cv2.resize(label_crop, (w,h), interpolation=cv2.INTER_NEAREST)\n",
    "            return img_crop, label_crop\n",
    "        else:\n",
    "            return [img, label]\n",
    "\n",
    "class RandomFlip(object):\n",
    "    def __call__(self, image, label):\n",
    "        if np.random.random() < 0.5:\n",
    "                image = cv2.flip(image, 1) # veritcal flip\n",
    "                label = cv2.flip(label, 1)  # veritcal flip\n",
    "        return [image, label]\n",
    "\n",
    "\n",
    "class Compose(object):\n",
    "    def __init__(self, transforms):\n",
    "        self.transforms = transforms\n",
    "\n",
    "    def __call__(self, *args):\n",
    "        for t in self.transforms:\n",
    "            args = t(*args)\n",
    "        return args"
   ]
  },
  {
   "cell_type": "code",
   "execution_count": 4,
   "metadata": {
    "colab": {},
    "colab_type": "code",
    "id": "sqiYKTOKBHGw"
   },
   "outputs": [],
   "source": [
    "train_transform = Compose([\n",
    "    Crop(300, 400),\n",
    "    RandomCropResize(150),\n",
    "    RandomFlip(),\n",
    "    Scale(192, 256)\n",
    "    ])\n",
    "\n",
    "val_transform = Compose([\n",
    "    Crop(300, 400),\n",
    "    RandomCropResize(150),\n",
    "    RandomFlip(),\n",
    "    Scale(192, 256)\n",
    "    ])\n",
    "\n",
    "img_transform = TT.Compose([\n",
    "    TT.ToPILImage(),\n",
    "    TT.ColorJitter(brightness=0.5, contrast=0.3, saturation=0.1, hue=0.1),\n",
    "    TT.ToTensor()\n",
    "])"
   ]
  },
  {
   "cell_type": "code",
   "execution_count": 5,
   "metadata": {
    "colab": {},
    "colab_type": "code",
    "id": "9u-xNDtYzyJw"
   },
   "outputs": [],
   "source": [
    "# Diretorio das imagens\n",
    "im_dir  = '../../Datasets/Eucalyptus2/Pred3/'\n",
    "data_dir  = '../data/'\n",
    "\n",
    "img_ext = '.jpg'\n",
    "msk_ext = '.png'\n",
    "\n",
    "imfxy = sorted(os.listdir(im_dir))\n",
    "# imfxy = imfxy[80:100]\n",
    "imfx = [i for i in imfxy if i.endswith(img_ext)]\n",
    "imfx = np.array(imfx)\n",
    "\n",
    "imfy = [i for i in imfxy if i.endswith(msk_ext) and not i.endswith('_col.png')]\n",
    "imfy = np.array(imfy)\n"
   ]
  },
  {
   "cell_type": "code",
   "execution_count": 6,
   "metadata": {
    "colab": {
     "base_uri": "https://localhost:8080/",
     "height": 34
    },
    "colab_type": "code",
    "id": "L3MFKzkc03Cc",
    "outputId": "d4b6cf24-939d-4054-a7d8-da009d952508"
   },
   "outputs": [
    {
     "name": "stdout",
     "output_type": "stream",
     "text": [
      "4093 4093\n"
     ]
    }
   ],
   "source": [
    "print(len(imfx), len(imfy))"
   ]
  },
  {
   "cell_type": "code",
   "execution_count": 7,
   "metadata": {
    "colab": {},
    "colab_type": "code",
    "id": "0nNtENYmzyJy"
   },
   "outputs": [],
   "source": [
    "im_train = np.arange(len(imfx))\n",
    "brks = np.int0(np.linspace(0, len(imfx), 11))\n",
    "\n",
    "fold = 0\n",
    "np.random.seed(12345)\n",
    "fold_ord = np.random.choice(im_train, len(imfx), replace=False)\n",
    "im_val = np.sort(fold_ord[brks[fold]:brks[fold +1]])\n",
    "im_train = np.setdiff1d(im_train,im_val)"
   ]
  },
  {
   "cell_type": "code",
   "execution_count": 8,
   "metadata": {
    "colab": {},
    "colab_type": "code",
    "id": "v2Qq89BdzyJz"
   },
   "outputs": [],
   "source": [
    "train_dataset =  MyDataset(im_dir, imfx[im_train], imfy[im_train], train_transform, img_transform)\n",
    "val_dataset =  MyDataset(im_dir, imfx[im_val], imfy[im_val], val_transform, img_transform)"
   ]
  },
  {
   "cell_type": "code",
   "execution_count": 9,
   "metadata": {
    "colab": {
     "base_uri": "https://localhost:8080/",
     "height": 34
    },
    "colab_type": "code",
    "id": "c1fuv6LmzyJ2",
    "outputId": "059e9856-419d-43fd-e04d-1dd86f4e9099"
   },
   "outputs": [
    {
     "name": "stdout",
     "output_type": "stream",
     "text": [
      "3684 409\n"
     ]
    }
   ],
   "source": [
    "print(len(train_dataset), len(val_dataset))"
   ]
  },
  {
   "cell_type": "code",
   "execution_count": 10,
   "metadata": {
    "colab": {},
    "colab_type": "code",
    "id": "Nz2w5lx0zyJ5"
   },
   "outputs": [],
   "source": [
    "# Carrega o dataset de treinamento\n",
    "train_loader = torch.utils.data.DataLoader(train_dataset,\n",
    "                          batch_size=50,\n",
    "                          shuffle=True,\n",
    "                          num_workers=0\n",
    "                         )\n",
    "\n",
    "# Carrega o dataset de validação\n",
    "val_loader = torch.utils.data.DataLoader(val_dataset,\n",
    "                          batch_size=50,\n",
    "                          shuffle=False,\n",
    "                          num_workers=0\n",
    "                         )"
   ]
  },
  {
   "cell_type": "code",
   "execution_count": 11,
   "metadata": {
    "colab": {
     "base_uri": "https://localhost:8080/",
     "height": 34
    },
    "colab_type": "code",
    "id": "Tc_23uZUzyJ9",
    "outputId": "e1d9d472-9806-4bdc-b76a-4f45f1612c13"
   },
   "outputs": [
    {
     "data": {
      "text/plain": [
       "IncompatibleKeys(missing_keys=[], unexpected_keys=[])"
      ]
     },
     "execution_count": 11,
     "metadata": {},
     "output_type": "execute_result"
    }
   ],
   "source": [
    "# Atribui o modelo\n",
    "model = net.EESPNet_Seg(3, s=0.5, pretrained='', gpus=1)\n",
    "model = model.to(device)\n",
    "model.load_state_dict(torch.load('../data/Tracking.pth', map_location=device))\n"
   ]
  },
  {
   "cell_type": "code",
   "execution_count": 12,
   "metadata": {
    "colab": {},
    "colab_type": "code",
    "id": "o7ZqoCfCzyJ_"
   },
   "outputs": [],
   "source": [
    "learning_rate = 1e-3\n",
    "criterion = torch.nn.CrossEntropyLoss()\n",
    "optimizer = torch.optim.Adam(model.parameters(), learning_rate, (0.9, 0.999), eps=1e-08, weight_decay=5e-4)"
   ]
  },
  {
   "cell_type": "code",
   "execution_count": 13,
   "metadata": {
    "colab": {
     "base_uri": "https://localhost:8080/",
     "height": 746
    },
    "colab_type": "code",
    "id": "BQMUiy5MzyKA",
    "outputId": "399b9a8e-eac9-49b9-fdd8-37ee0bc0d110"
   },
   "outputs": [
    {
     "data": {
      "image/png": "[encoded data removed]",
      "text/plain": [
       "<Figure size 864x576 with 1 Axes>"
      ]
     },
     "metadata": {
      "needs_background": "light"
     },
     "output_type": "display_data"
    },
    {
     "name": "stdout",
     "output_type": "stream",
     "text": [
      "log loss:\n",
      "training   (min:    0.114, max:    0.230, cur:    0.117)\n",
      "validation (min:    0.098, max:    0.152, cur:    0.108)\n",
      "Fold: 0, [3:14] loss: 0.117 time:60.18\n"
     ]
    },
    {
     "ename": "KeyboardInterrupt",
     "evalue": "",
     "output_type": "error",
     "traceback": [
      "\u001b[0;31m---------------------------------------------------------------------------\u001b[0m",
      "\u001b[0;31mKeyboardInterrupt\u001b[0m                         Traceback (most recent call last)",
      "\u001b[0;32m<ipython-input-13-7c80bc6182ad>\u001b[0m in \u001b[0;36m<module>\u001b[0;34m\u001b[0m\n\u001b[1;32m     10\u001b[0m \u001b[0;34m\u001b[0m\u001b[0m\n\u001b[1;32m     11\u001b[0m     \u001b[0mmodel\u001b[0m\u001b[0;34m.\u001b[0m\u001b[0mtrain\u001b[0m\u001b[0;34m(\u001b[0m\u001b[0;34m)\u001b[0m\u001b[0;34m\u001b[0m\u001b[0;34m\u001b[0m\u001b[0m\n\u001b[0;32m---> 12\u001b[0;31m     \u001b[0;32mfor\u001b[0m \u001b[0;34m(\u001b[0m\u001b[0mimgs\u001b[0m\u001b[0;34m,\u001b[0m \u001b[0mlabels\u001b[0m\u001b[0;34m)\u001b[0m \u001b[0;32min\u001b[0m \u001b[0mtrain_loader\u001b[0m\u001b[0;34m:\u001b[0m\u001b[0;34m\u001b[0m\u001b[0;34m\u001b[0m\u001b[0m\n\u001b[0m\u001b[1;32m     13\u001b[0m \u001b[0;34m\u001b[0m\u001b[0m\n\u001b[1;32m     14\u001b[0m         \u001b[0;31m#-------------------------------------------\u001b[0m\u001b[0;34m\u001b[0m\u001b[0;34m\u001b[0m\u001b[0;34m\u001b[0m\u001b[0m\n",
      "\u001b[0;32m~/.conda/envs/ANN/lib/python3.6/site-packages/torch/utils/data/dataloader.py\u001b[0m in \u001b[0;36m__next__\u001b[0;34m(self)\u001b[0m\n\u001b[1;32m    558\u001b[0m         \u001b[0;32mif\u001b[0m \u001b[0mself\u001b[0m\u001b[0;34m.\u001b[0m\u001b[0mnum_workers\u001b[0m \u001b[0;34m==\u001b[0m \u001b[0;36m0\u001b[0m\u001b[0;34m:\u001b[0m  \u001b[0;31m# same-process loading\u001b[0m\u001b[0;34m\u001b[0m\u001b[0;34m\u001b[0m\u001b[0m\n\u001b[1;32m    559\u001b[0m             \u001b[0mindices\u001b[0m \u001b[0;34m=\u001b[0m \u001b[0mnext\u001b[0m\u001b[0;34m(\u001b[0m\u001b[0mself\u001b[0m\u001b[0;34m.\u001b[0m\u001b[0msample_iter\u001b[0m\u001b[0;34m)\u001b[0m  \u001b[0;31m# may raise StopIteration\u001b[0m\u001b[0;34m\u001b[0m\u001b[0;34m\u001b[0m\u001b[0m\n\u001b[0;32m--> 560\u001b[0;31m             \u001b[0mbatch\u001b[0m \u001b[0;34m=\u001b[0m \u001b[0mself\u001b[0m\u001b[0;34m.\u001b[0m\u001b[0mcollate_fn\u001b[0m\u001b[0;34m(\u001b[0m\u001b[0;34m[\u001b[0m\u001b[0mself\u001b[0m\u001b[0;34m.\u001b[0m\u001b[0mdataset\u001b[0m\u001b[0;34m[\u001b[0m\u001b[0mi\u001b[0m\u001b[0;34m]\u001b[0m \u001b[0;32mfor\u001b[0m \u001b[0mi\u001b[0m \u001b[0;32min\u001b[0m \u001b[0mindices\u001b[0m\u001b[0;34m]\u001b[0m\u001b[0;34m)\u001b[0m\u001b[0;34m\u001b[0m\u001b[0;34m\u001b[0m\u001b[0m\n\u001b[0m\u001b[1;32m    561\u001b[0m             \u001b[0;32mif\u001b[0m \u001b[0mself\u001b[0m\u001b[0;34m.\u001b[0m\u001b[0mpin_memory\u001b[0m\u001b[0;34m:\u001b[0m\u001b[0;34m\u001b[0m\u001b[0;34m\u001b[0m\u001b[0m\n\u001b[1;32m    562\u001b[0m                 \u001b[0mbatch\u001b[0m \u001b[0;34m=\u001b[0m \u001b[0m_utils\u001b[0m\u001b[0;34m.\u001b[0m\u001b[0mpin_memory\u001b[0m\u001b[0;34m.\u001b[0m\u001b[0mpin_memory_batch\u001b[0m\u001b[0;34m(\u001b[0m\u001b[0mbatch\u001b[0m\u001b[0;34m)\u001b[0m\u001b[0;34m\u001b[0m\u001b[0;34m\u001b[0m\u001b[0m\n",
      "\u001b[0;32m~/.conda/envs/ANN/lib/python3.6/site-packages/torch/utils/data/dataloader.py\u001b[0m in \u001b[0;36m<listcomp>\u001b[0;34m(.0)\u001b[0m\n\u001b[1;32m    558\u001b[0m         \u001b[0;32mif\u001b[0m \u001b[0mself\u001b[0m\u001b[0;34m.\u001b[0m\u001b[0mnum_workers\u001b[0m \u001b[0;34m==\u001b[0m \u001b[0;36m0\u001b[0m\u001b[0;34m:\u001b[0m  \u001b[0;31m# same-process loading\u001b[0m\u001b[0;34m\u001b[0m\u001b[0;34m\u001b[0m\u001b[0m\n\u001b[1;32m    559\u001b[0m             \u001b[0mindices\u001b[0m \u001b[0;34m=\u001b[0m \u001b[0mnext\u001b[0m\u001b[0;34m(\u001b[0m\u001b[0mself\u001b[0m\u001b[0;34m.\u001b[0m\u001b[0msample_iter\u001b[0m\u001b[0;34m)\u001b[0m  \u001b[0;31m# may raise StopIteration\u001b[0m\u001b[0;34m\u001b[0m\u001b[0;34m\u001b[0m\u001b[0m\n\u001b[0;32m--> 560\u001b[0;31m             \u001b[0mbatch\u001b[0m \u001b[0;34m=\u001b[0m \u001b[0mself\u001b[0m\u001b[0;34m.\u001b[0m\u001b[0mcollate_fn\u001b[0m\u001b[0;34m(\u001b[0m\u001b[0;34m[\u001b[0m\u001b[0mself\u001b[0m\u001b[0;34m.\u001b[0m\u001b[0mdataset\u001b[0m\u001b[0;34m[\u001b[0m\u001b[0mi\u001b[0m\u001b[0;34m]\u001b[0m \u001b[0;32mfor\u001b[0m \u001b[0mi\u001b[0m \u001b[0;32min\u001b[0m \u001b[0mindices\u001b[0m\u001b[0;34m]\u001b[0m\u001b[0;34m)\u001b[0m\u001b[0;34m\u001b[0m\u001b[0;34m\u001b[0m\u001b[0m\n\u001b[0m\u001b[1;32m    561\u001b[0m             \u001b[0;32mif\u001b[0m \u001b[0mself\u001b[0m\u001b[0;34m.\u001b[0m\u001b[0mpin_memory\u001b[0m\u001b[0;34m:\u001b[0m\u001b[0;34m\u001b[0m\u001b[0;34m\u001b[0m\u001b[0m\n\u001b[1;32m    562\u001b[0m                 \u001b[0mbatch\u001b[0m \u001b[0;34m=\u001b[0m \u001b[0m_utils\u001b[0m\u001b[0;34m.\u001b[0m\u001b[0mpin_memory\u001b[0m\u001b[0;34m.\u001b[0m\u001b[0mpin_memory_batch\u001b[0m\u001b[0;34m(\u001b[0m\u001b[0mbatch\u001b[0m\u001b[0;34m)\u001b[0m\u001b[0;34m\u001b[0m\u001b[0;34m\u001b[0m\u001b[0m\n",
      "\u001b[0;32m<ipython-input-2-af35254ebda5>\u001b[0m in \u001b[0;36m__getitem__\u001b[0;34m(self, idx)\u001b[0m\n\u001b[1;32m     46\u001b[0m \u001b[0;34m\u001b[0m\u001b[0m\n\u001b[1;32m     47\u001b[0m         \u001b[0mimage\u001b[0m \u001b[0;34m=\u001b[0m \u001b[0mcv2\u001b[0m\u001b[0;34m.\u001b[0m\u001b[0mimread\u001b[0m\u001b[0;34m(\u001b[0m\u001b[0mos\u001b[0m\u001b[0;34m.\u001b[0m\u001b[0mpath\u001b[0m\u001b[0;34m.\u001b[0m\u001b[0mjoin\u001b[0m\u001b[0;34m(\u001b[0m\u001b[0mself\u001b[0m\u001b[0;34m.\u001b[0m\u001b[0mim_dir\u001b[0m\u001b[0;34m,\u001b[0m \u001b[0mimage_name\u001b[0m\u001b[0;34m)\u001b[0m\u001b[0;34m,\u001b[0m \u001b[0mcv2\u001b[0m\u001b[0;34m.\u001b[0m\u001b[0mIMREAD_COLOR\u001b[0m\u001b[0;34m)\u001b[0m\u001b[0;34m\u001b[0m\u001b[0;34m\u001b[0m\u001b[0m\n\u001b[0;32m---> 48\u001b[0;31m         \u001b[0mlabel\u001b[0m \u001b[0;34m=\u001b[0m \u001b[0mcv2\u001b[0m\u001b[0;34m.\u001b[0m\u001b[0mimread\u001b[0m\u001b[0;34m(\u001b[0m\u001b[0mos\u001b[0m\u001b[0;34m.\u001b[0m\u001b[0mpath\u001b[0m\u001b[0;34m.\u001b[0m\u001b[0mjoin\u001b[0m\u001b[0;34m(\u001b[0m\u001b[0mself\u001b[0m\u001b[0;34m.\u001b[0m\u001b[0mim_dir\u001b[0m\u001b[0;34m,\u001b[0m \u001b[0mlabel_name\u001b[0m\u001b[0;34m)\u001b[0m\u001b[0;34m,\u001b[0m \u001b[0mcv2\u001b[0m\u001b[0;34m.\u001b[0m\u001b[0mIMREAD_GRAYSCALE\u001b[0m\u001b[0;34m)\u001b[0m\u001b[0;34m\u001b[0m\u001b[0;34m\u001b[0m\u001b[0m\n\u001b[0m\u001b[1;32m     49\u001b[0m \u001b[0;34m\u001b[0m\u001b[0m\n\u001b[1;32m     50\u001b[0m         \u001b[0;32mif\u001b[0m \u001b[0mself\u001b[0m\u001b[0;34m.\u001b[0m\u001b[0mtransform\u001b[0m\u001b[0;34m:\u001b[0m\u001b[0;34m\u001b[0m\u001b[0;34m\u001b[0m\u001b[0m\n",
      "\u001b[0;31mKeyboardInterrupt\u001b[0m: "
     ]
    }
   ],
   "source": [
    "min_loss = 1e9\n",
    "bad_epochs = 0\n",
    "\n",
    "liveloss = PlotLosses()\n",
    "for epoch in range(100):\n",
    "    bad_epochs += 1\n",
    "    start_time = time.time()\n",
    "    epoch_loss = []\n",
    "    val_loss = []\n",
    "    \n",
    "    model.train()\n",
    "    for (imgs, labels) in train_loader:\n",
    "        \n",
    "        #-------------------------------------------\n",
    "        # Obtem o output\n",
    "        pred, feat = model(imgs)\n",
    "        loss = criterion(pred, labels)\n",
    "        \n",
    "        # Limpa os gradientes\n",
    "        optimizer.zero_grad()\n",
    "\n",
    "        # Obtem os gradientes\n",
    "        loss.backward()\n",
    "\n",
    "        # Atualiza os parâmetros\n",
    "        optimizer.step()\n",
    "\n",
    "        epoch_loss.append(loss.data.item())\n",
    "    \n",
    "    model.eval()\n",
    "    with torch.no_grad():\n",
    "        for (imgs, labels) in val_loader:\n",
    "\n",
    "            pred, feat = model(imgs)\n",
    "            loss = criterion(pred, labels)\n",
    "\n",
    "            val_loss.append(loss.data.item())\n",
    "        \n",
    "    epoch_loss = np.array(epoch_loss).mean()\n",
    "    val_loss = np.array(val_loss).mean()\n",
    "    time_taken = time.time() - start_time\n",
    "    \n",
    "    #save the model\n",
    "    model_file_name = '../data/Trackingff.pth'\n",
    "    if val_loss < min_loss:\n",
    "        torch.save(model.state_dict(), model_file_name)\n",
    "        min_loss = val_loss\n",
    "        bad_epochs = 0\n",
    "    if bad_epochs > 100:\n",
    "        break\n",
    "\n",
    "    liveloss.update({\n",
    "        'log loss': epoch_loss,\n",
    "        'val_log loss': val_loss\n",
    "    })\n",
    "    liveloss.draw()\n",
    "    print('Fold: %d, [%d:%d] loss: %.3f time:%.2f' % (fold, bad_epochs, epoch, epoch_loss, time_taken))\n",
    "    "
   ]
  },
  {
   "cell_type": "code",
   "execution_count": 31,
   "metadata": {
    "colab": {
     "base_uri": "https://localhost:8080/",
     "height": 34
    },
    "colab_type": "code",
    "id": "d8RWN0kDzyKC",
    "outputId": "987379f8-fe13-4c3c-85ef-b070debad7d4"
   },
   "outputs": [
    {
     "name": "stdout",
     "output_type": "stream",
     "text": [
      "Modelo OK\n"
     ]
    }
   ],
   "source": [
    "# Carrega os pesos de um modelo salvo\n",
    "model.load_state_dict(torch.load('../data/Trackingff.pth', map_location=device))\n",
    "# model_file_name = '../data/Tracking.pth'\n",
    "# torch.save(model.state_dict(), model_file_name)\n",
    "    \n",
    "# Coloca em modo de avaliação\n",
    "model.eval()\n",
    "\n",
    "print('Modelo OK')"
   ]
  },
  {
   "cell_type": "code",
   "execution_count": 15,
   "metadata": {
    "colab": {
     "base_uri": "https://localhost:8080/",
     "height": 34
    },
    "colab_type": "code",
    "id": "W7B52YVuzyKD",
    "outputId": "d868262c-b509-4819-cacb-5cb99c6922fa"
   },
   "outputs": [
    {
     "name": "stdout",
     "output_type": "stream",
     "text": [
      "time:5.76\n"
     ]
    }
   ],
   "source": [
    "start_time = time.time()\n",
    "y_preds = []\n",
    "y_obs = []\n",
    "x_obs = []\n",
    "\n",
    "with torch.no_grad():\n",
    "    for (imgs, labels) in val_loader:\n",
    "        # Obtem o output\n",
    "        pred, feat = model(imgs)\n",
    "        y_preds.append(pred.cpu().data.numpy())\n",
    "        x_obs.append(imgs.cpu().data.numpy())\n",
    "        y_obs.append(labels.cpu().data.numpy())\n",
    "\n",
    "y_preds = np.concatenate(y_preds)\n",
    "x_obs = np.concatenate(x_obs)\n",
    "y_obs = np.concatenate(y_obs)\n",
    "\n",
    "time_taken = time.time() - start_time\n",
    "print('time:%.2f' % (time_taken))"
   ]
  },
  {
   "cell_type": "code",
   "execution_count": 28,
   "metadata": {
    "colab": {
     "base_uri": "https://localhost:8080/",
     "height": 286
    },
    "colab_type": "code",
    "id": "Y2OHtd03zyKG",
    "outputId": "2e993feb-a133-4580-bd91-8b1eeea11d8c"
   },
   "outputs": [
    {
     "data": {
      "text/plain": [
       "<matplotlib.image.AxesImage at 0x7f9c46f36da0>"
      ]
     },
     "execution_count": 28,
     "metadata": {},
     "output_type": "execute_result"
    },
    {
     "data": {
      "image/png": "[encoded data removed]",
      "text/plain": [
       "<Figure size 432x288 with 1 Axes>"
      ]
     },
     "metadata": {
      "needs_background": "light"
     },
     "output_type": "display_data"
    }
   ],
   "source": [
    "idx = 201\n",
    "im = train_dataset.__back_transform__(x_obs[idx].copy())\n",
    "plt.imshow(im[:,:,[2,1,0]])"
   ]
  },
  {
   "cell_type": "code",
   "execution_count": 29,
   "metadata": {
    "colab": {
     "base_uri": "https://localhost:8080/",
     "height": 286
    },
    "colab_type": "code",
    "id": "CB459Z9NzyKJ",
    "outputId": "baab1e5f-ab99-4d16-e70f-baa77d4f1406"
   },
   "outputs": [
    {
     "data": {
      "text/plain": [
       "<matplotlib.image.AxesImage at 0x7f9c46fd86a0>"
      ]
     },
     "execution_count": 29,
     "metadata": {},
     "output_type": "execute_result"
    },
    {
     "data": {
      "image/png": "[encoded data removed]",
      "text/plain": [
       "<Figure size 432x288 with 1 Axes>"
      ]
     },
     "metadata": {
      "needs_background": "light"
     },
     "output_type": "display_data"
    }
   ],
   "source": [
    "plt.imshow(y_obs[idx])"
   ]
  },
  {
   "cell_type": "code",
   "execution_count": 30,
   "metadata": {
    "colab": {
     "base_uri": "https://localhost:8080/",
     "height": 302
    },
    "colab_type": "code",
    "id": "vs7R25IbzyKL",
    "outputId": "282190b0-086b-4376-f730-e29306b8d908"
   },
   "outputs": [
    {
     "data": {
      "text/plain": [
       "<matplotlib.image.AxesImage at 0x7f9c4629c400>"
      ]
     },
     "execution_count": 30,
     "metadata": {},
     "output_type": "execute_result"
    },
    {
     "data": {
      "image/png": "[encoded data removed]",
      "text/plain": [
       "<Figure size 432x288 with 1 Axes>"
      ]
     },
     "metadata": {
      "needs_background": "light"
     },
     "output_type": "display_data"
    }
   ],
   "source": [
    "imp = np.moveaxis(y_preds[idx].copy(), 0, 2)\n",
    "plt.imshow(imp.argmax(2))"
   ]
  },
  {
   "cell_type": "code",
   "execution_count": null,
   "metadata": {
    "colab": {},
    "colab_type": "code",
    "id": "Ik-xihLLzyKO"
   },
   "outputs": [],
   "source": []
  },
  {
   "cell_type": "code",
   "execution_count": null,
   "metadata": {},
   "outputs": [],
   "source": []
  }
 ],
 "metadata": {
  "accelerator": "GPU",
  "colab": {
   "collapsed_sections": [],
   "include_colab_link": true,
   "name": "Tracking_Train_Model.ipynb",
   "provenance": [],
   "version": "0.3.2"
  },
  "kernelspec": {
   "display_name": "Python 3",
   "language": "python",
   "name": "python3"
  },
  "language_info": {
   "codemirror_mode": {
    "name": "ipython",
    "version": 3
   },
   "file_extension": ".py",
   "mimetype": "text/x-python",
   "name": "python",
   "nbconvert_exporter": "python",
   "pygments_lexer": "ipython3",
   "version": "3.6.7"
  }
 },
 "nbformat": 4,
 "nbformat_minor": 1
}
