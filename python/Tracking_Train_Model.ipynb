{
  "nbformat": 4,
  "nbformat_minor": 0,
  "metadata": {
    "accelerator": "GPU",
    "colab": {
      "name": "Copy of Tracking_Train_Model.ipynb",
      "version": "0.3.2",
      "provenance": [],
      "collapsed_sections": [],
      "include_colab_link": true
    },
    "kernelspec": {
      "display_name": "Python 3",
      "language": "python",
      "name": "python3"
    },
    "language_info": {
      "codemirror_mode": {
        "name": "ipython",
        "version": 3
      },
      "file_extension": ".py",
      "mimetype": "text/x-python",
      "name": "python",
      "nbconvert_exporter": "python",
      "pygments_lexer": "ipython3",
      "version": "3.6.6"
    }
  },
  "cells": [
    {
      "cell_type": "markdown",
      "metadata": {
        "id": "view-in-github",
        "colab_type": "text"
      },
      "source": [
        "<a href=\"https://colab.research.google.com/github/RodrigoAgronomia/smart_tmp/blob/master/python/Tracking_Train_Model.ipynb\" target=\"_parent\"><img src=\"https://colab.research.google.com/assets/colab-badge.svg\" alt=\"Open In Colab\"/></a>"
      ]
    },
    {
      "cell_type": "code",
      "metadata": {
        "colab_type": "code",
        "id": "8QxyGEtZz5da",
        "colab": {}
      },
      "source": [
        "%%capture\n",
        "!pip install livelossplot\n",
        "%cd /content\n",
        "!git clone --depth 1 https://github.com/RodrigoAgronomia/smart_tmp.git\n",
        "%cd /content/smart_tmp\n",
        "!git pull\n",
        "%cd /content/smart_tmp/python"
      ],
      "execution_count": 0,
      "outputs": []
    },
    {
      "cell_type": "code",
      "metadata": {
        "colab_type": "code",
        "id": "-hefOC8R0bh5",
        "outputId": "48ff96fd-a93f-4828-9689-9ddedc5e901a",
        "colab": {
          "base_uri": "https://localhost:8080/",
          "height": 34
        }
      },
      "source": [
        "from google.colab import drive\n",
        "drive.mount('/content/drive')"
      ],
      "execution_count": 3,
      "outputs": [
        {
          "output_type": "stream",
          "text": [
            "Drive already mounted at /content/drive; to attempt to forcibly remount, call drive.mount(\"/content/drive\", force_remount=True).\n"
          ],
          "name": "stdout"
        }
      ]
    },
    {
      "cell_type": "code",
      "metadata": {
        "colab_type": "code",
        "id": "9hNrmqRpzyJo",
        "outputId": "f70edee3-053a-4edc-facb-6e59c086eb7b",
        "colab": {
          "base_uri": "https://localhost:8080/",
          "height": 34
        }
      },
      "source": [
        "import os\n",
        "import cv2\n",
        "import time\n",
        "import pandas as pd\n",
        "import numpy as np\n",
        "import torch\n",
        "import torch.nn as nn\n",
        "import torch.nn.functional as F\n",
        "import torchvision\n",
        "import matplotlib.pyplot as plt\n",
        "from cnn import SegmentationModel as net\n",
        "from torch.autograd import Variable\n",
        "from livelossplot import PlotLosses\n",
        "from torch.utils.data import Dataset, DataLoader\n",
        "\n",
        "device = 'cuda' if torch.cuda.is_available() else 'cpu'\n",
        "print(device)"
      ],
      "execution_count": 4,
      "outputs": [
        {
          "output_type": "stream",
          "text": [
            "cuda\n"
          ],
          "name": "stdout"
        }
      ]
    },
    {
      "cell_type": "code",
      "metadata": {
        "colab_type": "code",
        "id": "V6gBi2V8zyJs",
        "colab": {}
      },
      "source": [
        "def count_parameters(model):\n",
        "    return sum(p.numel() for p in model.parameters() if p.requires_grad)"
      ],
      "execution_count": 0,
      "outputs": []
    },
    {
      "cell_type": "code",
      "metadata": {
        "colab_type": "code",
        "id": "k0OZiilIzyJu",
        "colab": {}
      },
      "source": [
        "class MyDataset(torch.utils.data.Dataset):\n",
        "    '''\n",
        "    Class to load the dataset\n",
        "    '''\n",
        "    def __init__(self, im_dir, im_list, lbl_list, transform = None):\n",
        "        '''\n",
        "        :param imList: image list (Note that these lists have been processed and pickled using the loadData.py)\n",
        "        :param labelList: label list (Note that these lists have been processed and pickled using the loadData.py)\n",
        "        '''          \n",
        "        self.im_dir = im_dir\n",
        "        self.im_list = im_list\n",
        "        self.lbl_list = lbl_list      \n",
        "        self.transform = transform\n",
        "        \n",
        "\n",
        "    def __len__(self):\n",
        "        return len(self.im_list)\n",
        "\n",
        "    def __transform__(self, x):\n",
        "        x = x.copy()\n",
        "        x = np.moveaxis(x, 2, 0)\n",
        "        x = x.astype('float')\n",
        "        x -= 128\n",
        "        x /= 35\n",
        "        return(x)\n",
        "\n",
        "    def __back_transform__(self, x):\n",
        "        x = x.copy()\n",
        "        x *= 35\n",
        "        x += 128\n",
        "        x[x<0] = 0\n",
        "        x[x>255] = 255\n",
        "        x = x.astype('uint8')\n",
        "        x = np.moveaxis(x, 0, 2)\n",
        "        return(x)\n",
        "      \n",
        "    def __getitem__(self, idx):\n",
        "        '''\n",
        "\n",
        "        :param idx: Index of the image file\n",
        "        :return: returns the image and corresponding label file.\n",
        "        '''\n",
        "        image_name = self.im_list[idx]\n",
        "        label_name = self.lbl_list[idx]\n",
        "        \n",
        "        image = cv2.imread(os.path.join(self.im_dir, image_name), cv2.IMREAD_COLOR)\n",
        "        label = cv2.imread(os.path.join(self.im_dir, label_name), cv2.IMREAD_GRAYSCALE)\n",
        "        \n",
        "        if self.transform:\n",
        "            image, label = self.transform(image, label)\n",
        "            \n",
        "        \n",
        "        image = self.__transform__(image)\n",
        "        image = torch.from_numpy(image)\n",
        "        label = torch.from_numpy(label)\n",
        "\n",
        "        image = Variable(image).to(device, dtype=torch.float)\n",
        "        label = Variable(label).to(device, dtype=torch.long)\n",
        "        \n",
        "        return (image, label)"
      ],
      "execution_count": 0,
      "outputs": []
    },
    {
      "cell_type": "code",
      "metadata": {
        "id": "XaI_HiykBCfK",
        "colab_type": "code",
        "colab": {}
      },
      "source": [
        "class Scale(object):\n",
        "    def __init__(self, h, w):\n",
        "        self.h = h\n",
        "        self.w = w\n",
        "        \n",
        "    def __call__(self, img, label):\n",
        "        # nearest neighbour interpolation\n",
        "        img = cv2.resize(img, (self.w, self.h), interpolation=cv2.INTER_NEAREST)\n",
        "        label = cv2.resize(label, (self.w, self.h), interpolation=cv2.INTER_NEAREST)\n",
        "\n",
        "        return [img, label]\n",
        "\n",
        "class Crop(object):\n",
        "    def __init__(self, h, w):\n",
        "        self.y = h\n",
        "        self.x = w\n",
        "        \n",
        "    def __call__(self, img, label):\n",
        "        h, w = img.shape[:2]\n",
        "        x1 = np.random.randint(0, w - self.x)\n",
        "        y1 = np.random.randint(0, h - self.y)\n",
        "        img_crop = img[y1:y1+self.y, x1:x1+self.x]\n",
        "        label_crop = label[y1:y1+self.y, x1:x1+self.x]\n",
        "\n",
        "        return img_crop, label_crop\n",
        "\n",
        "class RandomCropResize(object):\n",
        "    def __init__(self, crop_area):\n",
        "        self.cw = crop_area\n",
        "        self.ch = crop_area\n",
        "\n",
        "    def __call__(self, img, label):\n",
        "        if np.random.random() < 0.5:\n",
        "            h, w = img.shape[:2]\n",
        "            x1 = np.random.randint(0, np.min([self.cw, int(w/2)]))\n",
        "            y1 = np.random.randint(0, np.min([self.ch, int(h/2)]))\n",
        "            \n",
        "            img_crop = img[y1:h-y1, x1:w-x1]\n",
        "            label_crop = label[y1:h-y1, x1:w-x1]\n",
        "\n",
        "            img_crop = cv2.resize(img_crop, (w, h), interpolation=cv2.INTER_NEAREST)\n",
        "            label_crop = cv2.resize(label_crop, (w,h), interpolation=cv2.INTER_NEAREST)\n",
        "            return img_crop, label_crop\n",
        "        else:\n",
        "            return [img, label]\n",
        "\n",
        "class RandomFlip(object):\n",
        "    def __call__(self, image, label):\n",
        "        if False and np.random.random() < 0.5:\n",
        "                image = cv2.flip(image, 0) # horizontal flip\n",
        "                label = cv2.flip(label, 0) # horizontal flip\n",
        "        if np.random.random() < 0.5:\n",
        "                image = cv2.flip(image, 1) # veritcal flip\n",
        "                label = cv2.flip(label, 1)  # veritcal flip\n",
        "        return [image, label]\n",
        "\n",
        "\n",
        "class Compose(object):\n",
        "    def __init__(self, transforms):\n",
        "        self.transforms = transforms\n",
        "\n",
        "    def __call__(self, *args):\n",
        "        for t in self.transforms:\n",
        "            args = t(*args)\n",
        "        return args"
      ],
      "execution_count": 0,
      "outputs": []
    },
    {
      "cell_type": "code",
      "metadata": {
        "id": "sqiYKTOKBHGw",
        "colab_type": "code",
        "colab": {}
      },
      "source": [
        "data_transform = Compose([\n",
        "    Crop(334, 442),\n",
        "    RandomCropResize(150),\n",
        "    RandomFlip(),\n",
        "    Scale(192, 256)\n",
        "    ])"
      ],
      "execution_count": 0,
      "outputs": []
    },
    {
      "cell_type": "code",
      "metadata": {
        "colab_type": "code",
        "id": "9u-xNDtYzyJw",
        "colab": {}
      },
      "source": [
        "# Diretorio das imagens\n",
        "# im_dir  = '/content/drive/My Drive/IMG_Datasets/Eucalipto2/Frames_LR/'\n",
        "# im_dir  = '../../Datasets/Eucalyptus2/Frames_LR/'\n",
        "im_dir  = '/content/data/'\n",
        "data_dir  = '../data/'\n",
        "\n",
        "img_ext = '.jpg'\n",
        "msk_ext = '.png'\n",
        "imfxy = sorted(os.listdir(im_dir))\n",
        "# imfxy = imfxy[80:100]\n",
        "imfx = [i for i in imfxy if i.endswith(img_ext)]\n",
        "imfx = np.array(imfx)\n",
        "\n",
        "imfy = [i for i in imfxy if i.endswith(msk_ext) and not i.endswith('_col.png')]\n",
        "imfy = np.array(imfy)\n"
      ],
      "execution_count": 0,
      "outputs": []
    },
    {
      "cell_type": "code",
      "metadata": {
        "id": "eCc4aA5i_zmt",
        "colab_type": "code",
        "colab": {}
      },
      "source": [
        "# import shutil\n",
        "# shutil.copytree(im_dir, '/content/data/')"
      ],
      "execution_count": 0,
      "outputs": []
    },
    {
      "cell_type": "code",
      "metadata": {
        "colab_type": "code",
        "id": "L3MFKzkc03Cc",
        "outputId": "4f3cb1e8-bc26-4373-c536-2cd8599249ff",
        "colab": {
          "base_uri": "https://localhost:8080/",
          "height": 34
        }
      },
      "source": [
        "print(len(imfx), len(imfy))"
      ],
      "execution_count": 185,
      "outputs": [
        {
          "output_type": "stream",
          "text": [
            "1684 1684\n"
          ],
          "name": "stdout"
        }
      ]
    },
    {
      "cell_type": "code",
      "metadata": {
        "colab_type": "code",
        "id": "0nNtENYmzyJy",
        "colab": {}
      },
      "source": [
        "im_train = np.arange(len(imfx))\n",
        "brks = np.int0(np.linspace(0, len(imfx), 11))\n",
        "\n",
        "fold = 0\n",
        "np.random.seed(12345)\n",
        "fold_ord = np.random.choice(im_train, len(imfx), replace=False)\n",
        "im_val = np.sort(fold_ord[brks[fold]:brks[fold +1]])\n",
        "im_train = np.setdiff1d(im_train,im_val)"
      ],
      "execution_count": 0,
      "outputs": []
    },
    {
      "cell_type": "code",
      "metadata": {
        "colab_type": "code",
        "id": "v2Qq89BdzyJz",
        "colab": {}
      },
      "source": [
        "train_dataset =  MyDataset(im_dir, imfx[im_train], imfy[im_train], data_transform)\n",
        "val_dataset =  MyDataset(im_dir, imfx[im_val], imfy[im_val], data_transform)"
      ],
      "execution_count": 0,
      "outputs": []
    },
    {
      "cell_type": "code",
      "metadata": {
        "colab_type": "code",
        "id": "c1fuv6LmzyJ2",
        "outputId": "9c705eb8-d3b6-4cb5-aa06-138a8bfe6f53",
        "colab": {
          "base_uri": "https://localhost:8080/",
          "height": 34
        }
      },
      "source": [
        "print(len(train_dataset), len(val_dataset))"
      ],
      "execution_count": 188,
      "outputs": [
        {
          "output_type": "stream",
          "text": [
            "1516 168\n"
          ],
          "name": "stdout"
        }
      ]
    },
    {
      "cell_type": "code",
      "metadata": {
        "colab_type": "code",
        "id": "Nz2w5lx0zyJ5",
        "colab": {}
      },
      "source": [
        "# Carrega o dataset de treinamento\n",
        "train_loader = torch.utils.data.DataLoader(train_dataset,\n",
        "                          batch_size=50,\n",
        "                          shuffle=True,\n",
        "                          num_workers=0\n",
        "                         )\n",
        "\n",
        "# Carrega o dataset de validação\n",
        "val_loader = torch.utils.data.DataLoader(val_dataset,\n",
        "                          batch_size=50,\n",
        "                          shuffle=False,\n",
        "                          num_workers=0\n",
        "                         )"
      ],
      "execution_count": 0,
      "outputs": []
    },
    {
      "cell_type": "code",
      "metadata": {
        "colab_type": "code",
        "id": "Tc_23uZUzyJ9",
        "outputId": "e94f0583-53e9-4085-c80f-183efdb90d41",
        "colab": {
          "base_uri": "https://localhost:8080/",
          "height": 34
        }
      },
      "source": [
        "# Atribui o modelo\n",
        "model = net.EESPNet_Seg(3, s=0.5, pretrained='', gpus=1)\n",
        "model = model.to(device)\n",
        "model.load_state_dict(torch.load('../data/Tracking.pth', map_location=device))\n",
        "\n",
        "print(count_parameters(model))\n"
      ],
      "execution_count": 227,
      "outputs": [
        {
          "output_type": "stream",
          "text": [
            "96630\n"
          ],
          "name": "stdout"
        }
      ]
    },
    {
      "cell_type": "code",
      "metadata": {
        "colab_type": "code",
        "id": "o7ZqoCfCzyJ_",
        "colab": {}
      },
      "source": [
        "learning_rate = 1e-3\n",
        "criterion = torch.nn.CrossEntropyLoss()\n",
        "optimizer = torch.optim.Adam(model.parameters(), learning_rate, (0.9, 0.999), eps=1e-08, weight_decay=5e-4)"
      ],
      "execution_count": 0,
      "outputs": []
    },
    {
      "cell_type": "code",
      "metadata": {
        "colab_type": "code",
        "id": "BQMUiy5MzyKA",
        "outputId": "8ff2bd49-ecdf-443d-8dfd-b018bf843948",
        "colab": {
          "base_uri": "https://localhost:8080/",
          "height": 393
        }
      },
      "source": [
        "min_loss = 1e9\n",
        "bad_epochs = 0\n",
        "\n",
        "liveloss = PlotLosses()\n",
        "for epoch in range(1000):\n",
        "    bad_epochs += 1\n",
        "    start_time = time.time()\n",
        "    epoch_loss = []\n",
        "    val_loss = []\n",
        "    \n",
        "    model.train()\n",
        "    for (imgs, labels) in train_loader:\n",
        "        \n",
        "        #-------------------------------------------\n",
        "        # Obtem o output\n",
        "        pred, feat = model(imgs)\n",
        "        loss = criterion(pred, labels)\n",
        "        \n",
        "        # Limpa os gradientes\n",
        "        optimizer.zero_grad()\n",
        "\n",
        "        # Obtem os gradientes\n",
        "        loss.backward()\n",
        "\n",
        "        # Atualiza os parâmetros\n",
        "        optimizer.step()\n",
        "\n",
        "        epoch_loss.append(loss.data.item())\n",
        "    \n",
        "    model.eval()\n",
        "    with torch.no_grad():\n",
        "        for (imgs, labels) in val_loader:\n",
        "\n",
        "            pred, feat = model(imgs)\n",
        "            loss = criterion(pred, labels)\n",
        "\n",
        "            val_loss.append(loss.data.item())\n",
        "        \n",
        "    epoch_loss = np.array(epoch_loss).mean()\n",
        "    val_loss = np.array(val_loss).mean()\n",
        "    time_taken = time.time() - start_time\n",
        "    \n",
        "    #save the model\n",
        "    model_file_name = '../data/Trackingg.pth'\n",
        "    if val_loss < min_loss:\n",
        "        torch.save(model.state_dict(), model_file_name)\n",
        "        min_loss = val_loss\n",
        "        bad_epochs = 0\n",
        "    if bad_epochs > 100:\n",
        "        break\n",
        "\n",
        "    liveloss.update({\n",
        "        'log loss': epoch_loss,\n",
        "        'val_log loss': val_loss\n",
        "    })\n",
        "    liveloss.draw()\n",
        "    print('Fold: %d, [%d:%d] loss: %.3f time:%.2f' % (fold, bad_epochs, epoch, epoch_loss, time_taken))\n",
        "    "
      ],
      "execution_count": 0,
      "outputs": [
        {
          "output_type": "display_data",
          "data": {
            "image/png": "[encoded data removed]",
            "text/plain": [
              "<Figure size 864x576 with 1 Axes>"
            ]
          },
          "metadata": {
            "tags": []
          }
        },
        {
          "output_type": "stream",
          "text": [
            "log loss:\n",
            "training   (min:    0.016, max:    0.017, cur:    0.016)\n",
            "validation (min:    0.012, max:    0.018, cur:    0.015)\n",
            "Fold: 0, [5:6] loss: 0.016 time:10.90\n"
          ],
          "name": "stdout"
        }
      ]
    },
    {
      "cell_type": "code",
      "metadata": {
        "colab_type": "code",
        "id": "d8RWN0kDzyKC",
        "outputId": "7c054138-dbd5-4839-e5e5-bc6a0f6909fa",
        "colab": {
          "base_uri": "https://localhost:8080/",
          "height": 34
        }
      },
      "source": [
        "# Carrega os pesos de um modelo salvo\n",
        "# model.load_state_dict(torch.load('../data/Tracking.pth', map_location=device))\n",
        "\n",
        "# Coloca em modo de avaliação\n",
        "model.eval()\n",
        "\n",
        "print('Modelo OK')"
      ],
      "execution_count": 221,
      "outputs": [
        {
          "output_type": "stream",
          "text": [
            "Modelo OK\n"
          ],
          "name": "stdout"
        }
      ]
    },
    {
      "cell_type": "code",
      "metadata": {
        "colab_type": "code",
        "id": "W7B52YVuzyKD",
        "outputId": "db65d990-9cbe-4811-f4c1-a9d88eb9f319",
        "colab": {
          "base_uri": "https://localhost:8080/",
          "height": 34
        }
      },
      "source": [
        "start_time = time.time()\n",
        "y_preds = []\n",
        "y_obs = []\n",
        "x_obs = []\n",
        "\n",
        "with torch.no_grad():\n",
        "    for (imgs, labels) in val_loader:\n",
        "        # Obtem o output\n",
        "        pred, feat = model(imgs)\n",
        "        y_preds.append(pred.cpu().data.numpy())\n",
        "        x_obs.append(imgs.cpu().data.numpy())\n",
        "        y_obs.append(labels.cpu().data.numpy())\n",
        "\n",
        "y_preds = np.concatenate(y_preds)\n",
        "x_obs = np.concatenate(x_obs)\n",
        "y_obs = np.concatenate(y_obs)\n",
        "\n",
        "time_taken = time.time() - start_time\n",
        "print('time:%.2f' % (time_taken))"
      ],
      "execution_count": 222,
      "outputs": [
        {
          "output_type": "stream",
          "text": [
            "time:1.03\n"
          ],
          "name": "stdout"
        }
      ]
    },
    {
      "cell_type": "code",
      "metadata": {
        "colab_type": "code",
        "id": "Y2OHtd03zyKG",
        "outputId": "3c30e639-c696-4847-880e-d392f021735f",
        "colab": {
          "base_uri": "https://localhost:8080/",
          "height": 286
        }
      },
      "source": [
        "idx = 100\n",
        "im = train_dataset.__back_transform__(x_obs[idx].copy())\n",
        "plt.imshow(im[:,:,[2,1,0]])"
      ],
      "execution_count": 223,
      "outputs": [
        {
          "output_type": "execute_result",
          "data": {
            "text/plain": [
              "<matplotlib.image.AxesImage at 0x7fb8367e66d8>"
            ]
          },
          "metadata": {
            "tags": []
          },
          "execution_count": 223
        },
        {
          "output_type": "display_data",
          "data": {
            "image/png": "[encoded data removed]",
            "text/plain": [
              "<Figure size 432x288 with 1 Axes>"
            ]
          },
          "metadata": {
            "tags": []
          }
        }
      ]
    },
    {
      "cell_type": "code",
      "metadata": {
        "colab_type": "code",
        "id": "CB459Z9NzyKJ",
        "outputId": "596790ce-44ed-46d0-8d0f-389eb7d17889",
        "colab": {
          "base_uri": "https://localhost:8080/",
          "height": 286
        }
      },
      "source": [
        "plt.imshow(y_obs[idx])"
      ],
      "execution_count": 224,
      "outputs": [
        {
          "output_type": "execute_result",
          "data": {
            "text/plain": [
              "<matplotlib.image.AxesImage at 0x7fb8ee1bd860>"
            ]
          },
          "metadata": {
            "tags": []
          },
          "execution_count": 224
        },
        {
          "output_type": "display_data",
          "data": {
            "image/png": "[encoded data removed]",
            "text/plain": [
              "<Figure size 432x288 with 1 Axes>"
            ]
          },
          "metadata": {
            "tags": []
          }
        }
      ]
    },
    {
      "cell_type": "code",
      "metadata": {
        "colab_type": "code",
        "id": "vs7R25IbzyKL",
        "outputId": "5e56216b-f12e-4b16-e7c8-18a1835e67f6",
        "colab": {
          "base_uri": "https://localhost:8080/",
          "height": 302
        }
      },
      "source": [
        "imp = np.moveaxis(y_preds[idx].copy(), 0, 2)\n",
        "plt.imshow(imp)"
      ],
      "execution_count": 225,
      "outputs": [
        {
          "output_type": "stream",
          "text": [
            "Clipping input data to the valid range for imshow with RGB data ([0..1] for floats or [0..255] for integers).\n"
          ],
          "name": "stderr"
        },
        {
          "output_type": "execute_result",
          "data": {
            "text/plain": [
              "<matplotlib.image.AxesImage at 0x7fb8367ca7f0>"
            ]
          },
          "metadata": {
            "tags": []
          },
          "execution_count": 225
        },
        {
          "output_type": "display_data",
          "data": {
            "image/png": "[encoded data removed]",
            "text/plain": [
              "<Figure size 432x288 with 1 Axes>"
            ]
          },
          "metadata": {
            "tags": []
          }
        }
      ]
    },
    {
      "cell_type": "code",
      "metadata": {
        "colab_type": "code",
        "id": "-0kDttHFzyKN",
        "colab": {}
      },
      "source": [
        ""
      ],
      "execution_count": 0,
      "outputs": []
    },
    {
      "cell_type": "code",
      "metadata": {
        "colab_type": "code",
        "id": "Ik-xihLLzyKO",
        "colab": {}
      },
      "source": [
        ""
      ],
      "execution_count": 0,
      "outputs": []
    }
  ]
}